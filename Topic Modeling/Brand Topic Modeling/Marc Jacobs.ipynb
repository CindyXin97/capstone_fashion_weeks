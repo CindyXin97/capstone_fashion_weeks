{
 "cells": [
  {
   "cell_type": "code",
   "execution_count": 1,
   "metadata": {},
   "outputs": [],
   "source": [
    "# packages to store and manipulate data\n",
    "import pandas as pd\n",
    "import numpy as np\n",
    "\n",
    "# plotting packages\n",
    "import matplotlib.pyplot as plt\n",
    "%matplotlib inline\n",
    "\n",
    "import seaborn as sns\n",
    "sns.set(style='white', color_codes=True)\n",
    "sns.set_context(rc={\"font.family\":\"sans\",\"font.size\":24,\"axes.titlesize\":24,\"axes.labelsize\":24})\n",
    "\n",
    "# model building package\n",
    "import sklearn\n",
    "\n",
    "import warnings\n",
    "warnings.filterwarnings(\"ignore\")\n"
   ]
  },
  {
   "cell_type": "code",
   "execution_count": 2,
   "metadata": {
    "scrolled": true
   },
   "outputs": [],
   "source": [
    "df = pd.read_csv('lemmatized_wHM_full.csv')"
   ]
  },
  {
   "cell_type": "code",
   "execution_count": 3,
   "metadata": {},
   "outputs": [],
   "source": [
    "df = df[df['lemmatized'].notna()]"
   ]
  },
  {
   "cell_type": "code",
   "execution_count": 4,
   "metadata": {},
   "outputs": [],
   "source": [
    "df['lemmatized'] = df['lemmatized'].str.lower()"
   ]
  },
  {
   "cell_type": "code",
   "execution_count": 5,
   "metadata": {},
   "outputs": [
    {
     "data": {
      "text/html": [
       "<div>\n",
       "<style scoped>\n",
       "    .dataframe tbody tr th:only-of-type {\n",
       "        vertical-align: middle;\n",
       "    }\n",
       "\n",
       "    .dataframe tbody tr th {\n",
       "        vertical-align: top;\n",
       "    }\n",
       "\n",
       "    .dataframe thead th {\n",
       "        text-align: right;\n",
       "    }\n",
       "</style>\n",
       "<table border=\"1\" class=\"dataframe\">\n",
       "  <thead>\n",
       "    <tr style=\"text-align: right;\">\n",
       "      <th></th>\n",
       "      <th>Unnamed: 0</th>\n",
       "      <th>id</th>\n",
       "      <th>time</th>\n",
       "      <th>created_at</th>\n",
       "      <th>from_user_name</th>\n",
       "      <th>text</th>\n",
       "      <th>filter_level</th>\n",
       "      <th>possibly_sensitive</th>\n",
       "      <th>withheld_copyright</th>\n",
       "      <th>withheld_scope</th>\n",
       "      <th>...</th>\n",
       "      <th>from_user_friendcount</th>\n",
       "      <th>from_user_favourites_count</th>\n",
       "      <th>from_user_listed</th>\n",
       "      <th>from_user_withheld_scope</th>\n",
       "      <th>from_user_created_at</th>\n",
       "      <th>mentions</th>\n",
       "      <th>hashtags</th>\n",
       "      <th>is_retweet</th>\n",
       "      <th>clean_text</th>\n",
       "      <th>lemmatized</th>\n",
       "    </tr>\n",
       "  </thead>\n",
       "  <tbody>\n",
       "    <tr>\n",
       "      <th>7964</th>\n",
       "      <td>7964</td>\n",
       "      <td>1225496887723282433</td>\n",
       "      <td>1581016201</td>\n",
       "      <td>2020-02-06 19:10:01</td>\n",
       "      <td>theWiShi</td>\n",
       "      <td>Two of our favorite shows last season were tom...</td>\n",
       "      <td>none</td>\n",
       "      <td>0.0</td>\n",
       "      <td>NaN</td>\n",
       "      <td>NaN</td>\n",
       "      <td>...</td>\n",
       "      <td>289</td>\n",
       "      <td>1189</td>\n",
       "      <td>38</td>\n",
       "      <td>NaN</td>\n",
       "      <td>2011-10-20 03:13:05</td>\n",
       "      <td>marcjacobsintl</td>\n",
       "      <td>NYFW</td>\n",
       "      <td>False</td>\n",
       "      <td>Two of our orite shows last season were tomoko...</td>\n",
       "      <td>orite show last season tomokoizumi intl nyfw b...</td>\n",
       "    </tr>\n",
       "    <tr>\n",
       "      <th>12685</th>\n",
       "      <td>12685</td>\n",
       "      <td>1225585146050568194</td>\n",
       "      <td>1581037243</td>\n",
       "      <td>2020-02-07 01:00:43</td>\n",
       "      <td>CheriStories</td>\n",
       "      <td>#JanelleMonae in #MarcJacobs Spring 2020 at th...</td>\n",
       "      <td>none</td>\n",
       "      <td>0.0</td>\n",
       "      <td>NaN</td>\n",
       "      <td>NaN</td>\n",
       "      <td>...</td>\n",
       "      <td>1123</td>\n",
       "      <td>1417</td>\n",
       "      <td>85</td>\n",
       "      <td>NaN</td>\n",
       "      <td>2011-01-14 01:27:02</td>\n",
       "      <td>NaN</td>\n",
       "      <td>JanelleMonae; MarcJacobs; Essence; BlackWomenI...</td>\n",
       "      <td>False</td>\n",
       "      <td>JanelleMonae in MarcJacobs Spring 2020 at the ...</td>\n",
       "      <td>janellemonae  spring essence blackwomeninholly...</td>\n",
       "    </tr>\n",
       "    <tr>\n",
       "      <th>21310</th>\n",
       "      <td>21310</td>\n",
       "      <td>1225728483713835008</td>\n",
       "      <td>1581071418</td>\n",
       "      <td>2020-02-07 10:30:18</td>\n",
       "      <td>pandoradress</td>\n",
       "      <td>MARC BY MARC-JACOBS - Pandora Price: £89 #marc...</td>\n",
       "      <td>none</td>\n",
       "      <td>0.0</td>\n",
       "      <td>NaN</td>\n",
       "      <td>NaN</td>\n",
       "      <td>...</td>\n",
       "      <td>1155</td>\n",
       "      <td>2</td>\n",
       "      <td>14</td>\n",
       "      <td>NaN</td>\n",
       "      <td>2012-02-10 11:06:30</td>\n",
       "      <td>NaN</td>\n",
       "      <td>marcbymarcjacobs; pandoradressagency; fashion;...</td>\n",
       "      <td>False</td>\n",
       "      <td>MARC BY MARC-JACOBS - Pandora Price: £89 marcb...</td>\n",
       "      <td>marc marc- jacobs pandora price marcby pandora...</td>\n",
       "    </tr>\n",
       "    <tr>\n",
       "      <th>56350</th>\n",
       "      <td>56350</td>\n",
       "      <td>1226329570464477184</td>\n",
       "      <td>1581214728</td>\n",
       "      <td>2020-02-09 02:18:48</td>\n",
       "      <td>monsieurmoda</td>\n",
       "      <td>@givenchy @themarcjacobs #Givenchy #CraigMcdea...</td>\n",
       "      <td>none</td>\n",
       "      <td>0.0</td>\n",
       "      <td>NaN</td>\n",
       "      <td>NaN</td>\n",
       "      <td>...</td>\n",
       "      <td>4988</td>\n",
       "      <td>5365</td>\n",
       "      <td>94</td>\n",
       "      <td>NaN</td>\n",
       "      <td>2012-11-27 01:46:25</td>\n",
       "      <td>givenchy; themarcjacobs</td>\n",
       "      <td>Givenchy; CraigMcdean; fashion; FashionPhotogr...</td>\n",
       "      <td>False</td>\n",
       "      <td>givenchy themarcjacobs Givenchy CraigMcdean fa...</td>\n",
       "      <td>givenchy themarcjacob givenchy craigmcdean fas...</td>\n",
       "    </tr>\n",
       "    <tr>\n",
       "      <th>111090</th>\n",
       "      <td>111090</td>\n",
       "      <td>1227036630621442048</td>\n",
       "      <td>1581383304</td>\n",
       "      <td>2020-02-11 01:08:24</td>\n",
       "      <td>CheriStories</td>\n",
       "      <td>#LiliReinhart in #MarcJacobs Spring 2020 at th...</td>\n",
       "      <td>none</td>\n",
       "      <td>0.0</td>\n",
       "      <td>NaN</td>\n",
       "      <td>NaN</td>\n",
       "      <td>...</td>\n",
       "      <td>1123</td>\n",
       "      <td>1417</td>\n",
       "      <td>85</td>\n",
       "      <td>NaN</td>\n",
       "      <td>2011-01-14 01:27:02</td>\n",
       "      <td>NaN</td>\n",
       "      <td>LiliReinhart; MarcJacobs; VanityFair; Oscars; ...</td>\n",
       "      <td>False</td>\n",
       "      <td>LiliReinha in MarcJacobs Spring 2020 at the 20...</td>\n",
       "      <td>lilireinha  spring vanityfair oscars pay more ...</td>\n",
       "    </tr>\n",
       "  </tbody>\n",
       "</table>\n",
       "<p>5 rows × 42 columns</p>\n",
       "</div>"
      ],
      "text/plain": [
       "        Unnamed: 0                   id        time           created_at  \\\n",
       "7964          7964  1225496887723282433  1581016201  2020-02-06 19:10:01   \n",
       "12685        12685  1225585146050568194  1581037243  2020-02-07 01:00:43   \n",
       "21310        21310  1225728483713835008  1581071418  2020-02-07 10:30:18   \n",
       "56350        56350  1226329570464477184  1581214728  2020-02-09 02:18:48   \n",
       "111090      111090  1227036630621442048  1581383304  2020-02-11 01:08:24   \n",
       "\n",
       "       from_user_name                                               text  \\\n",
       "7964         theWiShi  Two of our favorite shows last season were tom...   \n",
       "12685    CheriStories  #JanelleMonae in #MarcJacobs Spring 2020 at th...   \n",
       "21310    pandoradress  MARC BY MARC-JACOBS - Pandora Price: £89 #marc...   \n",
       "56350    monsieurmoda  @givenchy @themarcjacobs #Givenchy #CraigMcdea...   \n",
       "111090   CheriStories  #LiliReinhart in #MarcJacobs Spring 2020 at th...   \n",
       "\n",
       "       filter_level  possibly_sensitive  withheld_copyright withheld_scope  \\\n",
       "7964           none                 0.0                 NaN            NaN   \n",
       "12685          none                 0.0                 NaN            NaN   \n",
       "21310          none                 0.0                 NaN            NaN   \n",
       "56350          none                 0.0                 NaN            NaN   \n",
       "111090         none                 0.0                 NaN            NaN   \n",
       "\n",
       "        ...  from_user_friendcount  from_user_favourites_count  \\\n",
       "7964    ...                    289                        1189   \n",
       "12685   ...                   1123                        1417   \n",
       "21310   ...                   1155                           2   \n",
       "56350   ...                   4988                        5365   \n",
       "111090  ...                   1123                        1417   \n",
       "\n",
       "        from_user_listed from_user_withheld_scope from_user_created_at  \\\n",
       "7964                  38                      NaN  2011-10-20 03:13:05   \n",
       "12685                 85                      NaN  2011-01-14 01:27:02   \n",
       "21310                 14                      NaN  2012-02-10 11:06:30   \n",
       "56350                 94                      NaN  2012-11-27 01:46:25   \n",
       "111090                85                      NaN  2011-01-14 01:27:02   \n",
       "\n",
       "                       mentions  \\\n",
       "7964             marcjacobsintl   \n",
       "12685                       NaN   \n",
       "21310                       NaN   \n",
       "56350   givenchy; themarcjacobs   \n",
       "111090                      NaN   \n",
       "\n",
       "                                                 hashtags is_retweet  \\\n",
       "7964                                                 NYFW      False   \n",
       "12685   JanelleMonae; MarcJacobs; Essence; BlackWomenI...      False   \n",
       "21310   marcbymarcjacobs; pandoradressagency; fashion;...      False   \n",
       "56350   Givenchy; CraigMcdean; fashion; FashionPhotogr...      False   \n",
       "111090  LiliReinhart; MarcJacobs; VanityFair; Oscars; ...      False   \n",
       "\n",
       "                                               clean_text  \\\n",
       "7964    Two of our orite shows last season were tomoko...   \n",
       "12685   JanelleMonae in MarcJacobs Spring 2020 at the ...   \n",
       "21310   MARC BY MARC-JACOBS - Pandora Price: £89 marcb...   \n",
       "56350   givenchy themarcjacobs Givenchy CraigMcdean fa...   \n",
       "111090  LiliReinha in MarcJacobs Spring 2020 at the 20...   \n",
       "\n",
       "                                               lemmatized  \n",
       "7964    orite show last season tomokoizumi intl nyfw b...  \n",
       "12685   janellemonae  spring essence blackwomeninholly...  \n",
       "21310   marc marc- jacobs pandora price marcby pandora...  \n",
       "56350   givenchy themarcjacob givenchy craigmcdean fas...  \n",
       "111090  lilireinha  spring vanityfair oscars pay more ...  \n",
       "\n",
       "[5 rows x 42 columns]"
      ]
     },
     "execution_count": 5,
     "metadata": {},
     "output_type": "execute_result"
    }
   ],
   "source": [
    "tweets = df[df['lemmatized'].str.contains('marcjacobs')]\n",
    "tweets['lemmatized'] = tweets['lemmatized'].apply(lambda x : x.replace('marcjacobs', ''))\n",
    "tweets.head()"
   ]
  },
  {
   "cell_type": "markdown",
   "metadata": {},
   "source": [
    "# We can now proceed with the proper LDA "
   ]
  },
  {
   "cell_type": "code",
   "execution_count": 6,
   "metadata": {
    "scrolled": true
   },
   "outputs": [
    {
     "data": {
      "text/plain": [
       "['af',\n",
       " 'agdlm',\n",
       " 'attend',\n",
       " 'aw2020',\n",
       " 'backstage',\n",
       " 'bella',\n",
       " 'bellahadid',\n",
       " 'big',\n",
       " 'check',\n",
       " 'city',\n",
       " 'coat',\n",
       " 'collection',\n",
       " 'come',\n",
       " 'cyrus',\n",
       " 'darn',\n",
       " 'debut',\n",
       " 'designer',\n",
       " 'dress',\n",
       " 'défilé',\n",
       " 'eat',\n",
       " 'end',\n",
       " 'even',\n",
       " 'fall',\n",
       " 'fashion',\n",
       " 'fashionista',\n",
       " 'fashionshow',\n",
       " 'fashionweek',\n",
       " 'february',\n",
       " 'finally',\n",
       " 'fw20',\n",
       " 'fw2020',\n",
       " 'gentleman',\n",
       " 'get',\n",
       " 'gettin',\n",
       " 'good',\n",
       " 'gorgeous',\n",
       " 'hacer',\n",
       " 'hadid',\n",
       " 'happen',\n",
       " 'here',\n",
       " 'how',\n",
       " 'husband',\n",
       " 'imgoriginals',\n",
       " 'instafashion',\n",
       " 'instagood',\n",
       " 'instapic',\n",
       " 'intl',\n",
       " 'jacobs',\n",
       " 'just',\n",
       " 'kaiagerber',\n",
       " 'karlie',\n",
       " 'karliekloss',\n",
       " 'kenneth',\n",
       " 'kloss',\n",
       " 'lady',\n",
       " 'look',\n",
       " 'make',\n",
       " 'marc',\n",
       " 'marcjacob',\n",
       " 'miley',\n",
       " 'mileycyrus',\n",
       " 'minaj',\n",
       " 'moda',\n",
       " 'model',\n",
       " 'naturally',\n",
       " 'need',\n",
       " 'new',\n",
       " 'newyork',\n",
       " 'newyorkfashionweek',\n",
       " 'nicki',\n",
       " 'nickiminaj',\n",
       " 'ny',\n",
       " 'nyc',\n",
       " 'nyfashionweek',\n",
       " 'nyfw2020',\n",
       " 'officially',\n",
       " 'on',\n",
       " 'other',\n",
       " 'outnow',\n",
       " 'petty',\n",
       " 'photooftheday',\n",
       " 'queen',\n",
       " 'rap',\n",
       " 'runway',\n",
       " 'show',\n",
       " 'slay',\n",
       " 'sorpresa',\n",
       " 'star',\n",
       " 'struttin',\n",
       " 'stuff',\n",
       " 'style',\n",
       " 'suit',\n",
       " 'think',\n",
       " 'tonight',\n",
       " 'try',\n",
       " 'valider',\n",
       " 'walk',\n",
       " 'watch',\n",
       " 'way',\n",
       " 'week',\n",
       " 'when',\n",
       " 'winter',\n",
       " 'work',\n",
       " 'yikespay',\n",
       " 'york']"
      ]
     },
     "execution_count": 6,
     "metadata": {},
     "output_type": "execute_result"
    }
   ],
   "source": [
    "from sklearn.feature_extraction.text import CountVectorizer\n",
    "\n",
    "# the vectorizer object will be used to transform text to vector form\n",
    "vectorizer = CountVectorizer(max_df=0.9, min_df=10, lowercase=True)\n",
    "\n",
    "# apply transformation\n",
    "tf = vectorizer.fit_transform(tweets['lemmatized']) #.toarray()\n",
    "\n",
    "# tf_feature_names tells us what word each column in the matric represents\n",
    "tf_feature_names = vectorizer.get_feature_names()\n",
    "\n",
    "tf_feature_names[:-1]"
   ]
  },
  {
   "cell_type": "code",
   "execution_count": 7,
   "metadata": {},
   "outputs": [],
   "source": [
    "# Helper function to plot the most common words \n",
    "def plot_10_most_common_words(count_data, count_vectorizer):\n",
    "    import matplotlib.pyplot as plt\n",
    "    words = count_vectorizer.get_feature_names()\n",
    "    total_counts = np.zeros(len(words))\n",
    "    for t in count_data:\n",
    "        total_counts+=t.toarray()[0]\n",
    "    \n",
    "    count_dict = (zip(words, total_counts))\n",
    "    count_dict = sorted(count_dict, key=lambda x:x[1], reverse=True)[0:10]\n",
    "    words = [w[0] for w in count_dict]\n",
    "    counts = [w[1] for w in count_dict]\n",
    "    x_pos = np.arange(len(words)) \n",
    "    \n",
    "    plt.figure(2, figsize=(15, 15/1.6180))\n",
    "    plt.subplot(title='10 most common words')\n",
    "    sns.set_context(\"notebook\", font_scale=1.25, rc={\"lines.linewidth\": 2.5})\n",
    "    sns.barplot(x_pos, counts, palette='husl')\n",
    "    plt.xticks(x_pos, words, rotation=90) \n",
    "    plt.xlabel('words')\n",
    "    plt.ylabel('counts')\n",
    "    plt.show()"
   ]
  },
  {
   "cell_type": "code",
   "execution_count": 8,
   "metadata": {
    "scrolled": false
   },
   "outputs": [
    {
     "data": {
      "image/png": "[encoded data removed]",
      "text/plain": [
       "<Figure size 1080x667.491 with 1 Axes>"
      ]
     },
     "metadata": {},
     "output_type": "display_data"
    }
   ],
   "source": [
    "plot_10_most_common_words(tf,vectorizer)"
   ]
  },
  {
   "cell_type": "markdown",
   "metadata": {},
   "source": [
    "## Fit LDA model\n",
    "We start by trying with a model with 5 topics.\n",
    "- `n_components`: number of topics = 3\n",
    "- `learning_decay`: which controls the learning rate = 0.9."
   ]
  },
  {
   "cell_type": "code",
   "execution_count": 9,
   "metadata": {},
   "outputs": [],
   "source": [
    "from sklearn.decomposition import LatentDirichletAllocation\n",
    "\n",
    "number_of_topics = 4\n",
    "learning_decay = 0.9\n",
    "random_state = 1234\n",
    "\n",
    "model = LatentDirichletAllocation(n_components=number_of_topics,n_jobs = -1, evaluate_every = -1, \n",
    "                                  random_state=random_state, learning_decay=learning_decay) # random state for reproducibility"
   ]
  },
  {
   "cell_type": "code",
   "execution_count": 10,
   "metadata": {},
   "outputs": [],
   "source": [
    "lda_output = model.fit_transform(tf)"
   ]
  },
  {
   "cell_type": "markdown",
   "metadata": {},
   "source": [
    "### Diagnose model performance with perplexity and log-likelihood\n",
    "\n",
    "A model with higher log-likelihood and lower perplexity (exp(-1. * log-likelihood per word)) is considered to be good."
   ]
  },
  {
   "cell_type": "code",
   "execution_count": 11,
   "metadata": {},
   "outputs": [
    {
     "name": "stdout",
     "output_type": "stream",
     "text": [
      "Log Likelihood:  -24852.47271328851\n",
      "Perplexity:  27.619725405890815\n",
      "{'batch_size': 128, 'doc_topic_prior': None, 'evaluate_every': -1, 'learning_decay': 0.9, 'learning_method': 'batch', 'learning_offset': 10.0, 'max_doc_update_iter': 100, 'max_iter': 10, 'mean_change_tol': 0.001, 'n_components': 4, 'n_jobs': -1, 'perp_tol': 0.1, 'random_state': 1234, 'topic_word_prior': None, 'total_samples': 1000000.0, 'verbose': 0}\n"
     ]
    }
   ],
   "source": [
    "# Log Likelyhood: Higher the better\n",
    "print(\"Log Likelihood: \", model.score(tf))\n",
    "\n",
    "# Perplexity: Lower the better. Perplexity = exp(-1. * log-likelihood per word)\n",
    "print(\"Perplexity: \", model.perplexity(tf))\n",
    "\n",
    "# See model parameters\n",
    "print(model.get_params())"
   ]
  },
  {
   "cell_type": "code",
   "execution_count": 12,
   "metadata": {},
   "outputs": [],
   "source": [
    "# Helper function\n",
    "def print_topics(model, count_vectorizer, n_top_words, array):\n",
    "    words = count_vectorizer.get_feature_names()\n",
    "    for topic_idx, topic in enumerate(model.components_):\n",
    "        print(\"\\nTopic #%d:\" % topic_idx)\n",
    "        print(\" \".join([words[i]\n",
    "                        for i in topic.argsort()[:-n_top_words - 1:-1]]))\n",
    "        array.append([words[i]\n",
    "                        for i in topic.argsort()[:-n_top_words - 1:-1]])"
   ]
  },
  {
   "cell_type": "code",
   "execution_count": 13,
   "metadata": {},
   "outputs": [
    {
     "name": "stdout",
     "output_type": "stream",
     "text": [
      "Topics found via LDA:\n",
      "\n",
      "Topic #0:\n",
      "marc jacobs runway mileycyrus fashion make york debut new officially gorgeous af look show fw20 week intl newyorkfashionweek miley fall\n",
      "\n",
      "Topic #1:\n",
      "nicki minaj attend petty show husband kenneth look queen eat lady rap gentleman yikespay how fashion valider défilé dress zoo\n",
      "\n",
      "Topic #2:\n",
      "show mileycyrus marcjacob fashion model nyfw2020 style miley intl moda get fall fw20 cyrus collection fw2020 just winter dress check\n",
      "\n",
      "Topic #3:\n",
      "nickiminaj just on gettin other happen try slay naturally need even way show designer end think good big finally darn\n"
     ]
    }
   ],
   "source": [
    "print(\"Topics found via LDA:\")\n",
    "number_of_words = 20\n",
    "array = []\n",
    "print_topics(model, vectorizer, number_of_words, array)"
   ]
  },
  {
   "cell_type": "code",
   "execution_count": 14,
   "metadata": {
    "scrolled": false
   },
   "outputs": [
    {
     "data": {
      "text/html": [
       "\n",
       "<link rel=\"stylesheet\" type=\"text/css\" href=\"https://cdn.rawgit.com/bmabey/pyLDAvis/files/ldavis.v1.0.0.css\">\n",
       "\n",
       "\n",
       "<div id=\"ldavis_el322757485178403776692962\"></div>\n",
       "<script type=\"text/javascript\">\n",
       "\n",
       "var ldavis_el322757485178403776692962_data = {\"mdsDat\": {\"x\": [0.2611329627177166, -0.21075721794824887, 0.2146016314579171, -0.26497737622738476], \"y\": [0.2989952285600766, -0.015688699008215852, -0.32623162146403883, 0.042925091912178234], \"topics\": [1, 2, 3, 4], \"cluster\": [1, 1, 1, 1], \"Freq\": [49.99123779812204, 20.145468176066597, 15.720331305936039, 14.142962719875312]}, \"tinfo\": {\"Term\": [\"nicki\", \"minaj\", \"attend\", \"petty\", \"husband\", \"kenneth\", \"nickiminaj\", \"marc\", \"mileycyrus\", \"runway\", \"jacobs\", \"fashion\", \"on\", \"gettin\", \"other\", \"just\", \"marcjacob\", \"happen\", \"try\", \"slay\", \"need\", \"even\", \"naturally\", \"way\", \"make\", \"york\", \"debut\", \"officially\", \"new\", \"designer\", \"nicki\", \"minaj\", \"attend\", \"petty\", \"husband\", \"kenneth\", \"queen\", \"eat\", \"gentleman\", \"lady\", \"yikespay\", \"rap\", \"valider\", \"d\\u00e9fil\\u00e9\", \"how\", \"show\", \"look\", \"fashion\", \"zoo\", \"work\", \"karliekloss\", \"city\", \"walk\", \"hacer\", \"sorpresa\", \"nyfashionweek\", \"fashionista\", \"newyork\", \"when\", \"watch\", \"hadid\", \"outnow\", \"bella\", \"dress\", \"nickiminaj\", \"jacobs\", \"marc\", \"winter\", \"newyorkfashionweek\", \"fall\", \"marcjacob\", \"model\", \"nyfw2020\", \"style\", \"moda\", \"get\", \"fw2020\", \"dress\", \"check\", \"fashionshow\", \"instafashion\", \"come\", \"imgoriginals\", \"nyc\", \"instagood\", \"struttin\", \"stuff\", \"photooftheday\", \"instapic\", \"agdlm\", \"aw2020\", \"suit\", \"coat\", \"bellahadid\", \"kaiagerber\", \"outnow\", \"star\", \"bella\", \"hadid\", \"tonight\", \"collection\", \"miley\", \"cyrus\", \"mileycyrus\", \"fashion\", \"intl\", \"fall\", \"fw20\", \"winter\", \"backstage\", \"show\", \"just\", \"on\", \"other\", \"gettin\", \"happen\", \"try\", \"slay\", \"even\", \"naturally\", \"need\", \"way\", \"nickiminaj\", \"designer\", \"think\", \"good\", \"big\", \"finally\", \"darn\", \"end\", \"just\", \"show\", \"zoo\", \"work\", \"karliekloss\", \"city\", \"hacer\", \"walk\", \"sorpresa\", \"fashionista\", \"nyfashionweek\", \"newyork\", \"when\", \"outnow\", \"queen\", \"ny\", \"look\", \"how\", \"come\", \"nyfw2020\", \"petty\", \"fashion\", \"marc\", \"runway\", \"make\", \"york\", \"debut\", \"officially\", \"gorgeous\", \"af\", \"week\", \"newyorkfashionweek\", \"kloss\", \"karlie\", \"february\", \"ny\", \"newyork\", \"hacer\", \"sorpresa\", \"walk\", \"city\", \"jacobs\", \"new\", \"look\", \"mileycyrus\", \"fw20\", \"fashionweek\", \"fashion\", \"intl\", \"fall\", \"winter\", \"miley\", \"cyrus\", \"show\"], \"Freq\": [535.0, 529.0, 495.0, 495.0, 489.0, 488.0, 127.0, 89.0, 153.0, 86.0, 99.0, 151.0, 69.0, 68.0, 68.0, 101.0, 78.0, 63.0, 62.0, 60.0, 60.0, 60.0, 60.0, 55.0, 50.0, 50.0, 46.0, 45.0, 52.0, 44.0, 534.7477255680141, 529.1613369312175, 494.70608523196216, 494.70240267744424, 489.12036333749825, 487.259080701092, 22.56429743666036, 18.853559126922825, 17.92564706939283, 17.92564706939283, 17.92564706939283, 17.92564706939283, 15.85262177257648, 15.850659744008539, 17.916811900898615, 491.0241564461207, 22.627171184749148, 17.24781662228862, 0.2345887515604049, 0.23281676734867818, 0.23283473442806885, 0.23285774680256885, 0.23281857449635185, 0.23281933188901865, 0.23281696957180364, 0.23281651328011044, 0.23282211405237555, 0.23281147309251207, 0.23344344720238897, 0.23282353961944446, 0.23401933136148032, 0.23436821513101075, 0.23394179959008687, 0.23486962488397015, 0.23426749067754338, 0.2342392935133841, 0.2342320274444329, 0.23371370264276523, 0.23362656958098213, 0.2334896087529378, 77.756105319188, 48.84754627581276, 48.845453654699405, 42.643663667595334, 37.47496228990092, 36.44683352786999, 30.200190386517512, 27.13359448008274, 26.107851663099492, 25.07120038873903, 24.040255273461707, 24.03657846189085, 23.006276151850837, 22.999774532343466, 21.972437245436396, 21.972395476190698, 21.972395476190698, 20.938448468151734, 20.938448468151734, 20.938448468151734, 20.93844846815174, 20.938448468151737, 20.938448468151737, 20.935806425477434, 18.868030202436287, 18.83864778583846, 17.833415227428375, 16.788520317628212, 15.754314192727453, 20.619619527684932, 31.115564243835887, 41.79562647638354, 34.61827450914638, 78.19913388044469, 76.99291748114084, 37.93951651243681, 35.916218360976195, 35.46016589443259, 29.111784513245723, 24.711537656499523, 79.66074335808806, 29.790697995564788, 68.9180916910367, 67.86195428368899, 67.86195428368899, 62.57373320712048, 61.52474597567085, 59.41230775946107, 59.41230775946107, 59.41230775946107, 59.41230775946107, 55.182648846738005, 125.93434961367454, 43.56445153363006, 42.51274059321123, 41.4552350148225, 40.40030067552143, 40.40030067552143, 39.34413414423544, 42.61335114449959, 71.49149172289724, 45.17369426750626, 0.28353683677979663, 0.2650403273678735, 0.2641791273535818, 0.2650774523474746, 0.26411652335337127, 0.2641117178707599, 0.26410681923806517, 0.2648153761243724, 0.2641044091738666, 0.2640842141537489, 0.276305551299214, 0.29384072226470315, 0.27114634223493744, 0.2663847071963904, 0.27100911058131066, 0.2675083614378572, 0.2673569681564572, 0.2677671333384596, 0.2676988088525261, 0.2664703814773589, 89.14965925565066, 85.97150857399556, 49.99941137922837, 49.99847082030169, 45.767373231355705, 44.70916735867668, 35.18499068507875, 34.12694870638119, 19.308352657224244, 17.184464725236563, 15.079391741216329, 15.079391741216329, 15.077506412313168, 14.010305770456288, 11.900053070067159, 10.846491119488121, 10.845883894830436, 10.844489534899513, 10.844470946040408, 88.08429823362356, 45.30444729673272, 31.30552585391212, 74.9971722230879, 24.55640952721625, 11.081133524322356, 56.894112394602864, 18.842047241701078, 16.681297686201454, 12.004551135326011, 17.01338905205969, 12.718259237806837, 26.34579066061481], \"Total\": [535.0, 529.0, 495.0, 495.0, 489.0, 488.0, 127.0, 89.0, 153.0, 86.0, 99.0, 151.0, 69.0, 68.0, 68.0, 101.0, 78.0, 63.0, 62.0, 60.0, 60.0, 60.0, 60.0, 55.0, 50.0, 50.0, 46.0, 45.0, 52.0, 44.0, 535.5391579273197, 529.9517397792793, 495.4967087710709, 495.497145417151, 489.90919742556787, 488.04662475693493, 23.37141065676469, 19.64469798372734, 18.713077203068977, 18.713077203068977, 18.713077203068977, 18.713077203068977, 16.879358745130315, 16.879626306752883, 22.947004564349832, 642.2043847323298, 60.26436958070995, 151.4013168795097, 11.36011810728033, 11.35994766575275, 11.408054090447653, 11.60194982475899, 11.601934256457692, 11.601980063261674, 11.601966228653009, 12.393902834535064, 12.403147123935168, 12.660081238260759, 13.428235554378269, 13.427920608402918, 16.530061006237645, 19.632371664940923, 17.564066088059167, 27.90381506069837, 127.74373351863846, 99.19068824416249, 89.90906768640724, 41.61435301862113, 17.950915893354214, 53.09535712051231, 78.57104879521151, 49.61807755621159, 49.61803509707479, 43.41405387866766, 38.24405183729046, 37.209915377915266, 31.006921473808564, 27.90381506069837, 26.869902685422122, 25.835966461270992, 24.801895565417883, 24.801907797326223, 23.767893626991572, 23.76801347343911, 22.733893443068013, 22.733893877362135, 22.733893877362135, 21.69989420678038, 21.69989420678038, 21.69989420678038, 21.69989420678039, 21.699894206780385, 21.699894206780385, 21.699952913765785, 19.631951474398164, 19.632371664940923, 18.597965408156288, 17.564066088059167, 16.530061006237645, 21.707314291101223, 35.21831846130969, 59.30698969551493, 47.83473487444712, 153.6934116033882, 151.4013168795097, 57.28089617421864, 53.09535712051231, 60.51357485164098, 41.61435301862113, 32.19362747014474, 642.2043847323298, 101.78235471750386, 69.67420034733622, 68.6179821614536, 68.6179821614536, 63.336794800127514, 62.28066502872047, 60.16822522734085, 60.16822522734085, 60.16822522734085, 60.16822522734085, 55.943246994674546, 127.74373351863846, 44.32483996509622, 43.26870538780268, 42.2124585575186, 41.15626555293558, 41.15626555293558, 40.10004673477858, 53.61084781375604, 101.78235471750386, 642.2043847323298, 11.36011810728033, 11.35994766575275, 11.408054090447653, 11.60194982475899, 11.601980063261674, 11.601934256457692, 11.601966228653009, 12.403147123935168, 12.393902834535064, 12.660081238260759, 13.428235554378269, 19.632371664940923, 23.37141065676469, 14.776400583280452, 60.26436958070995, 22.947004564349832, 24.801907797326223, 49.61803509707479, 495.497145417151, 151.4013168795097, 89.90906768640724, 86.73447575656498, 50.75563691444148, 50.75561342125998, 46.522820585883224, 45.46461335447302, 35.940740528097535, 34.882537042739806, 20.067562631575406, 17.950915893354214, 15.83481086072095, 15.83481086072095, 15.834748307962304, 14.776400583280452, 12.660081238260759, 11.601980063261674, 11.601966228653009, 11.601934256457692, 11.60194982475899, 99.19068824416249, 52.71622899518273, 60.26436958070995, 153.6934116033882, 60.51357485164098, 29.185339981690845, 151.4013168795097, 57.28089617421864, 53.09535712051231, 41.61435301862113, 59.30698969551493, 47.83473487444712, 642.2043847323298], \"Category\": [\"Default\", \"Default\", \"Default\", \"Default\", \"Default\", \"Default\", \"Default\", \"Default\", \"Default\", \"Default\", \"Default\", \"Default\", \"Default\", \"Default\", \"Default\", \"Default\", \"Default\", \"Default\", \"Default\", \"Default\", \"Default\", \"Default\", \"Default\", \"Default\", \"Default\", \"Default\", \"Default\", \"Default\", \"Default\", \"Default\", \"Topic1\", \"Topic1\", \"Topic1\", \"Topic1\", \"Topic1\", \"Topic1\", \"Topic1\", \"Topic1\", \"Topic1\", \"Topic1\", \"Topic1\", \"Topic1\", \"Topic1\", \"Topic1\", \"Topic1\", \"Topic1\", \"Topic1\", \"Topic1\", \"Topic1\", \"Topic1\", \"Topic1\", \"Topic1\", \"Topic1\", \"Topic1\", \"Topic1\", \"Topic1\", \"Topic1\", \"Topic1\", \"Topic1\", \"Topic1\", \"Topic1\", \"Topic1\", \"Topic1\", \"Topic1\", \"Topic1\", \"Topic1\", \"Topic1\", \"Topic1\", \"Topic1\", \"Topic1\", \"Topic2\", \"Topic2\", \"Topic2\", \"Topic2\", \"Topic2\", \"Topic2\", \"Topic2\", \"Topic2\", \"Topic2\", \"Topic2\", \"Topic2\", \"Topic2\", \"Topic2\", \"Topic2\", \"Topic2\", \"Topic2\", \"Topic2\", \"Topic2\", \"Topic2\", \"Topic2\", \"Topic2\", \"Topic2\", \"Topic2\", \"Topic2\", \"Topic2\", \"Topic2\", \"Topic2\", \"Topic2\", \"Topic2\", \"Topic2\", \"Topic2\", \"Topic2\", \"Topic2\", \"Topic2\", \"Topic2\", \"Topic2\", \"Topic2\", \"Topic2\", \"Topic2\", \"Topic2\", \"Topic2\", \"Topic2\", \"Topic3\", \"Topic3\", \"Topic3\", \"Topic3\", \"Topic3\", \"Topic3\", \"Topic3\", \"Topic3\", \"Topic3\", \"Topic3\", \"Topic3\", \"Topic3\", \"Topic3\", \"Topic3\", \"Topic3\", \"Topic3\", \"Topic3\", \"Topic3\", \"Topic3\", \"Topic3\", \"Topic3\", \"Topic3\", \"Topic3\", \"Topic3\", \"Topic3\", \"Topic3\", \"Topic3\", \"Topic3\", \"Topic3\", \"Topic3\", \"Topic3\", \"Topic3\", \"Topic3\", \"Topic3\", \"Topic3\", \"Topic3\", \"Topic3\", \"Topic3\", \"Topic3\", \"Topic3\", \"Topic4\", \"Topic4\", \"Topic4\", \"Topic4\", \"Topic4\", \"Topic4\", \"Topic4\", \"Topic4\", \"Topic4\", \"Topic4\", \"Topic4\", \"Topic4\", \"Topic4\", \"Topic4\", \"Topic4\", \"Topic4\", \"Topic4\", \"Topic4\", \"Topic4\", \"Topic4\", \"Topic4\", \"Topic4\", \"Topic4\", \"Topic4\", \"Topic4\", \"Topic4\", \"Topic4\", \"Topic4\", \"Topic4\", \"Topic4\", \"Topic4\", \"Topic4\"], \"logprob\": [30.0, 29.0, 28.0, 27.0, 26.0, 25.0, 24.0, 23.0, 22.0, 21.0, 20.0, 19.0, 18.0, 17.0, 16.0, 15.0, 14.0, 13.0, 12.0, 11.0, 10.0, 9.0, 8.0, 7.0, 6.0, 5.0, 4.0, 3.0, 2.0, 1.0, -1.9461, -1.9566, -2.0239, -2.0239, -2.0353, -2.0391, -5.1115, -5.2912, -5.3416, -5.3416, -5.3416, -5.3416, -5.4645, -5.4647, -5.3421, -2.0314, -5.1087, -5.3802, -9.6778, -9.6854, -9.6853, -9.6852, -9.6854, -9.6854, -9.6854, -9.6854, -9.6853, -9.6854, -9.6827, -9.6853, -9.6802, -9.6787, -9.6806, -9.6766, -9.6792, -9.6793, -9.6793, -9.6815, -9.6819, -9.6825, -2.9654, -3.4303, -3.4303, -3.5661, -3.6953, -3.7231, -3.9112, -4.0182, -4.0568, -4.0973, -4.1393, -4.1394, -4.1832, -4.1835, -4.2292, -4.2292, -4.2292, -4.2774, -4.2774, -4.2774, -4.2774, -4.2774, -4.2774, -4.2775, -4.3815, -4.3831, -4.4379, -4.4983, -4.5619, -4.2928, -3.8813, -3.5862, -3.7746, -2.9597, -2.9753, -3.683, -3.7378, -3.7506, -3.9479, -4.1117, -2.9412, -3.9248, -2.8381, -2.8535, -2.8535, -2.9346, -2.9515, -2.9865, -2.9865, -2.9865, -2.9865, -3.0603, -2.2352, -3.2967, -3.3212, -3.3464, -3.3721, -3.3721, -3.3986, -3.3188, -2.8014, -3.2605, -8.3314, -8.3988, -8.4021, -8.3987, -8.4023, -8.4024, -8.4024, -8.3997, -8.4024, -8.4025, -8.3572, -8.2957, -8.3761, -8.3938, -8.3766, -8.3896, -8.3901, -8.3886, -8.3889, -8.3935, -2.4749, -2.5112, -3.0532, -3.0532, -3.1417, -3.1651, -3.4046, -3.4352, -4.0047, -4.1212, -4.2519, -4.2519, -4.252, -4.3254, -4.4887, -4.5814, -4.5815, -4.5816, -4.5816, -2.4869, -3.1518, -3.5214, -2.6478, -3.7643, -4.56, -2.924, -4.0291, -4.1509, -4.48, -4.1312, -4.4222, -3.6939], \"loglift\": [30.0, 29.0, 28.0, 27.0, 26.0, 25.0, 24.0, 23.0, 22.0, 21.0, 20.0, 19.0, 18.0, 17.0, 16.0, 15.0, 14.0, 13.0, 12.0, 11.0, 10.0, 9.0, 8.0, 7.0, 6.0, 5.0, 4.0, 3.0, 2.0, 1.0, 0.6918, 0.6918, 0.6917, 0.6917, 0.6917, 0.6917, 0.6582, 0.6522, 0.6503, 0.6503, 0.6503, 0.6503, 0.6306, 0.6304, 0.4459, 0.4249, -0.2863, -1.4789, -3.1867, -3.1943, -3.1984, -3.2152, -3.2153, -3.2153, -3.2154, -3.2814, -3.2821, -3.3027, -3.3589, -3.3615, -3.5642, -3.7347, -3.6252, -4.0842, -5.608, -5.3551, -5.2569, -4.4888, -3.6483, -4.7334, 1.5918, 1.5865, 1.5865, 1.5843, 1.5819, 1.5815, 1.5758, 1.5742, 1.5734, 1.5721, 1.571, 1.5708, 1.5696, 1.5693, 1.5681, 1.5681, 1.5681, 1.5665, 1.5665, 1.5665, 1.5665, 1.5665, 1.5665, 1.5663, 1.5625, 1.5609, 1.5602, 1.557, 1.5541, 1.5508, 1.4783, 1.2523, 1.2788, 0.9265, 0.926, 1.1902, 1.2113, 1.0677, 1.2449, 1.3377, -0.4849, 0.3736, 1.8393, 1.8391, 1.8391, 1.8381, 1.838, 1.8376, 1.8376, 1.8376, 1.8376, 1.8365, 1.8359, 1.8329, 1.8326, 1.8321, 1.8317, 1.8317, 1.8312, 1.6206, 1.497, -0.8042, -1.8403, -1.9078, -1.9152, -1.9287, -1.9323, -1.9323, -1.9324, -1.9965, -1.9984, -2.0197, -2.0334, -2.3517, -2.6064, -2.1656, -3.5541, -2.6016, -2.6799, -3.3718, -5.6732, -4.4922, 1.9475, 1.9471, 1.9409, 1.9409, 1.9396, 1.9392, 1.9347, 1.9341, 1.9174, 1.9123, 1.9071, 1.9071, 1.907, 1.9027, 1.894, 1.8886, 1.8886, 1.8884, 1.8884, 1.8372, 1.8044, 1.301, 1.2384, 1.0541, 0.9875, 0.9772, 0.8441, 0.7982, 0.7128, 0.7072, 0.6312, -1.2376]}, \"token.table\": {\"Topic\": [4, 2, 1, 2, 2, 4, 2, 2, 3, 2, 4, 2, 2, 4, 2, 2, 4, 3, 4, 3, 2, 1, 4, 1, 2, 3, 3, 2, 4, 1, 2, 4, 2, 4, 2, 2, 4, 4, 3, 2, 4, 2, 1, 2, 3, 3, 4, 4, 2, 3, 1, 4, 1, 2, 2, 2, 2, 2, 4, 2, 4, 2, 3, 2, 4, 2, 4, 1, 4, 1, 1, 2, 4, 4, 4, 2, 2, 4, 2, 4, 1, 2, 2, 3, 3, 2, 4, 4, 4, 1, 2, 3, 4, 2, 2, 2, 4, 3, 3, 2, 1, 2, 1, 1, 4, 1, 2, 3, 4, 3, 4, 2, 2, 2, 2, 2, 3, 2, 4, 3, 1, 4, 4, 2, 3, 4, 2, 2, 4, 2, 1, 4, 2], \"Freq\": [0.9746997461320409, 0.9677466535038824, 0.9989975538438937, 0.9677466535038821, 0.7765511986241419, 0.21743433561475975, 0.9678852217230812, 0.9677440353650834, 0.9719054793382946, 0.9676253875718696, 0.9481164947400129, 0.9677466535038823, 0.8802237402122457, 0.1135772568015801, 0.9676674954249821, 0.7316858783029794, 0.2717690405125352, 0.972567445069222, 0.9887620617301551, 0.9926713787268716, 0.9676096240341212, 0.9478882831427982, 0.059243017696424885, 0.9671820872857717, 0.18652941350116262, 0.8020764780549993, 0.980584017179719, 0.6780253858786484, 0.32017865444269505, 0.11228436020493254, 0.5085821021046945, 0.37648285480477384, 0.8868716858782217, 0.08062469871620198, 0.9676433059887992, 0.6167479978404272, 0.37690155423581667, 0.9472837653161458, 0.9719054793382946, 0.5783826205245398, 0.41313044323181414, 0.9675259127334164, 0.9618941772466993, 0.96748405994405, 0.9909938744628263, 0.9712772342822319, 0.9738252324722667, 0.9481140236425782, 0.9679335117978315, 0.9946824779941843, 0.7844161075369535, 0.17431469056376744, 0.9981441511399549, 0.9676919781347587, 0.9676679726635091, 0.9677180925957146, 0.9677466535038824, 0.6633974420446181, 0.3316987210223091, 0.11089750655750052, 0.8871800524600042, 0.29474657059433107, 0.6975668837399169, 0.9678100531563413, 0.947280023230859, 0.7889163154946822, 0.17531473677659604, 0.997855482030111, 0.947280023230859, 0.9618941772466993, 0.38165171493575334, 0.09956131693976174, 0.5144001375221023, 0.9851122562856367, 0.9898890322211107, 0.9927320711131158, 0.7081795959570721, 0.2866441221731006, 0.5075038623079174, 0.4879844829883821, 0.9982041010381896, 0.9674707104105159, 0.9875432990020345, 0.980584017179719, 0.980584017179719, 0.132786432820141, 0.8536270681294778, 0.9478612162245935, 0.9470268871514093, 0.9989932427548223, 0.00782817264264548, 0.9863497529733304, 0.947456717966962, 0.9676870987010601, 0.968218014955106, 0.9875441440624233, 0.9897807696977299, 0.990323529456022, 0.9909938744628263, 0.9677893391723936, 0.9989966734990321, 0.9677466535038824, 0.9841083338006733, 0.9618941772466993, 0.9915319052757475, 0.764554107186061, 0.124570933961069, 0.07007115035310131, 0.040485553537347424, 0.980584017179719, 0.9481151542084003, 0.9678478051209813, 0.967718074109032, 0.967718074109032, 0.9904626764451704, 0.9677466535038823, 0.9937898445217076, 0.9674158543237574, 0.046067421634464645, 0.9954935447688132, 0.9479033085078538, 0.05924395678174086, 0.9481177669902195, 0.9681320272228051, 0.9831392161637608, 0.946801579684837, 0.9681093206442418, 0.6968749456953807, 0.28836204649464026, 0.9683143200705142, 0.9618941772466993, 0.9851127122632021, 0.9682997919669918], \"Term\": [\"af\", \"agdlm\", \"attend\", \"aw2020\", \"backstage\", \"backstage\", \"bella\", \"bellahadid\", \"big\", \"check\", \"city\", \"coat\", \"collection\", \"collection\", \"come\", \"cyrus\", \"cyrus\", \"darn\", \"debut\", \"designer\", \"dress\", \"d\\u00e9fil\\u00e9\", \"d\\u00e9fil\\u00e9\", \"eat\", \"end\", \"end\", \"even\", \"fall\", \"fall\", \"fashion\", \"fashion\", \"fashion\", \"fashionista\", \"fashionista\", \"fashionshow\", \"fashionweek\", \"fashionweek\", \"february\", \"finally\", \"fw20\", \"fw20\", \"fw2020\", \"gentleman\", \"get\", \"gettin\", \"good\", \"gorgeous\", \"hacer\", \"hadid\", \"happen\", \"how\", \"how\", \"husband\", \"imgoriginals\", \"instafashion\", \"instagood\", \"instapic\", \"intl\", \"intl\", \"jacobs\", \"jacobs\", \"just\", \"just\", \"kaiagerber\", \"karlie\", \"karliekloss\", \"karliekloss\", \"kenneth\", \"kloss\", \"lady\", \"look\", \"look\", \"look\", \"make\", \"marc\", \"marcjacob\", \"miley\", \"miley\", \"mileycyrus\", \"mileycyrus\", \"minaj\", \"moda\", \"model\", \"naturally\", \"need\", \"new\", \"new\", \"newyork\", \"newyorkfashionweek\", \"nicki\", \"nickiminaj\", \"nickiminaj\", \"ny\", \"nyc\", \"nyfashionweek\", \"nyfw2020\", \"officially\", \"on\", \"other\", \"outnow\", \"petty\", \"photooftheday\", \"queen\", \"rap\", \"runway\", \"show\", \"show\", \"show\", \"show\", \"slay\", \"sorpresa\", \"star\", \"struttin\", \"stuff\", \"style\", \"suit\", \"think\", \"tonight\", \"tonight\", \"try\", \"valider\", \"valider\", \"walk\", \"watch\", \"way\", \"week\", \"when\", \"winter\", \"winter\", \"work\", \"yikespay\", \"york\", \"zoo\"]}, \"R\": 30, \"lambda.step\": 0.01, \"plot.opts\": {\"xlab\": \"PC1\", \"ylab\": \"PC2\"}, \"topic.order\": [2, 3, 4, 1]};\n",
       "\n",
       "function LDAvis_load_lib(url, callback){\n",
       "  var s = document.createElement('script');\n",
       "  s.src = url;\n",
       "  s.async = true;\n",
       "  s.onreadystatechange = s.onload = callback;\n",
       "  s.onerror = function(){console.warn(\"failed to load library \" + url);};\n",
       "  document.getElementsByTagName(\"head\")[0].appendChild(s);\n",
       "}\n",
       "\n",
       "if(typeof(LDAvis) !== \"undefined\"){\n",
       "   // already loaded: just create the visualization\n",
       "   !function(LDAvis){\n",
       "       new LDAvis(\"#\" + \"ldavis_el322757485178403776692962\", ldavis_el322757485178403776692962_data);\n",
       "   }(LDAvis);\n",
       "}else if(typeof define === \"function\" && define.amd){\n",
       "   // require.js is available: use it to load d3/LDAvis\n",
       "   require.config({paths: {d3: \"https://cdnjs.cloudflare.com/ajax/libs/d3/3.5.5/d3.min\"}});\n",
       "   require([\"d3\"], function(d3){\n",
       "      window.d3 = d3;\n",
       "      LDAvis_load_lib(\"https://cdn.rawgit.com/bmabey/pyLDAvis/files/ldavis.v1.0.0.js\", function(){\n",
       "        new LDAvis(\"#\" + \"ldavis_el322757485178403776692962\", ldavis_el322757485178403776692962_data);\n",
       "      });\n",
       "    });\n",
       "}else{\n",
       "    // require.js not available: dynamically load d3 & LDAvis\n",
       "    LDAvis_load_lib(\"https://cdnjs.cloudflare.com/ajax/libs/d3/3.5.5/d3.min.js\", function(){\n",
       "         LDAvis_load_lib(\"https://cdn.rawgit.com/bmabey/pyLDAvis/files/ldavis.v1.0.0.js\", function(){\n",
       "                 new LDAvis(\"#\" + \"ldavis_el322757485178403776692962\", ldavis_el322757485178403776692962_data);\n",
       "            })\n",
       "         });\n",
       "}\n",
       "</script>"
      ],
      "text/plain": [
       "<IPython.core.display.HTML object>"
      ]
     },
     "execution_count": 14,
     "metadata": {},
     "output_type": "execute_result"
    }
   ],
   "source": [
    "from pyLDAvis import gensim as ldavis_gensim\n",
    "from pyLDAvis import sklearn as sklearn_lda\n",
    "import pickle \n",
    "import pyLDAvis\n",
    "import os \n",
    "\n",
    "LDAvis_prepared = sklearn_lda.prepare(model, tf, vectorizer)\n",
    "\n",
    "pyLDAvis.display(LDAvis_prepared)"
   ]
  },
  {
   "cell_type": "markdown",
   "metadata": {},
   "source": [
    "We can save the model so not to have to generate it again"
   ]
  },
  {
   "cell_type": "code",
   "execution_count": 15,
   "metadata": {},
   "outputs": [],
   "source": [
    "pyLDAvis.save_html(LDAvis_prepared, './marcJacobs'+ str(number_of_topics) +'.html')"
   ]
  },
  {
   "cell_type": "code",
   "execution_count": 16,
   "metadata": {},
   "outputs": [],
   "source": [
    "df = pd.DataFrame(columns=['topic','word'])"
   ]
  },
  {
   "cell_type": "code",
   "execution_count": 17,
   "metadata": {},
   "outputs": [],
   "source": [
    "for i in range(len(array)):\n",
    "    for j in range(len(array[i])):\n",
    "        df = df.append({'topic' : i+1, 'word' : array[i][j]}, ignore_index=True)"
   ]
  },
  {
   "cell_type": "code",
   "execution_count": 18,
   "metadata": {},
   "outputs": [],
   "source": [
    "df.to_csv('topic_word_marc_jacobs.csv')"
   ]
  }
 ],
 "metadata": {
  "kernelspec": {
   "display_name": "Python 3",
   "language": "python",
   "name": "python3"
  },
  "language_info": {
   "codemirror_mode": {
    "name": "ipython",
    "version": 3
   },
   "file_extension": ".py",
   "mimetype": "text/x-python",
   "name": "python",
   "nbconvert_exporter": "python",
   "pygments_lexer": "ipython3",
   "version": "3.7.4"
  }
 },
 "nbformat": 4,
 "nbformat_minor": 4
}
