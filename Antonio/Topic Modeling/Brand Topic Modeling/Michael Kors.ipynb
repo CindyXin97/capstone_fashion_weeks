{
 "cells": [
  {
   "cell_type": "code",
   "execution_count": 1,
   "metadata": {},
   "outputs": [],
   "source": [
    "# packages to store and manipulate data\n",
    "import pandas as pd\n",
    "import numpy as np\n",
    "\n",
    "# plotting packages\n",
    "import matplotlib.pyplot as plt\n",
    "%matplotlib inline\n",
    "\n",
    "import seaborn as sns\n",
    "sns.set(style='white', color_codes=True)\n",
    "sns.set_context(rc={\"font.family\":\"sans\",\"font.size\":24,\"axes.titlesize\":24,\"axes.labelsize\":24})\n",
    "\n",
    "# model building package\n",
    "import sklearn\n",
    "\n",
    "import warnings\n",
    "warnings.filterwarnings(\"ignore\")\n"
   ]
  },
  {
   "cell_type": "code",
   "execution_count": 2,
   "metadata": {
    "scrolled": true
   },
   "outputs": [],
   "source": [
    "df = pd.read_csv('lemmatized_wHM_full.csv')"
   ]
  },
  {
   "cell_type": "code",
   "execution_count": 3,
   "metadata": {},
   "outputs": [],
   "source": [
    "df = df[df['lemmatized'].notna()]"
   ]
  },
  {
   "cell_type": "code",
   "execution_count": 4,
   "metadata": {},
   "outputs": [],
   "source": [
    "df['lemmatized'] = df['lemmatized'].str.lower()"
   ]
  },
  {
   "cell_type": "code",
   "execution_count": 5,
   "metadata": {},
   "outputs": [
    {
     "data": {
      "text/html": [
       "<div>\n",
       "<style scoped>\n",
       "    .dataframe tbody tr th:only-of-type {\n",
       "        vertical-align: middle;\n",
       "    }\n",
       "\n",
       "    .dataframe tbody tr th {\n",
       "        vertical-align: top;\n",
       "    }\n",
       "\n",
       "    .dataframe thead th {\n",
       "        text-align: right;\n",
       "    }\n",
       "</style>\n",
       "<table border=\"1\" class=\"dataframe\">\n",
       "  <thead>\n",
       "    <tr style=\"text-align: right;\">\n",
       "      <th></th>\n",
       "      <th>Unnamed: 0</th>\n",
       "      <th>id</th>\n",
       "      <th>time</th>\n",
       "      <th>created_at</th>\n",
       "      <th>from_user_name</th>\n",
       "      <th>text</th>\n",
       "      <th>filter_level</th>\n",
       "      <th>possibly_sensitive</th>\n",
       "      <th>withheld_copyright</th>\n",
       "      <th>withheld_scope</th>\n",
       "      <th>...</th>\n",
       "      <th>from_user_friendcount</th>\n",
       "      <th>from_user_favourites_count</th>\n",
       "      <th>from_user_listed</th>\n",
       "      <th>from_user_withheld_scope</th>\n",
       "      <th>from_user_created_at</th>\n",
       "      <th>mentions</th>\n",
       "      <th>hashtags</th>\n",
       "      <th>is_retweet</th>\n",
       "      <th>clean_text</th>\n",
       "      <th>lemmatized</th>\n",
       "    </tr>\n",
       "  </thead>\n",
       "  <tbody>\n",
       "    <tr>\n",
       "      <th>4576</th>\n",
       "      <td>4576</td>\n",
       "      <td>1225446231230623745</td>\n",
       "      <td>1581004123</td>\n",
       "      <td>2020-02-06 15:48:43</td>\n",
       "      <td>RitzHerald</td>\n",
       "      <td>Michael Kors Unveils Exclusive Partnership and...</td>\n",
       "      <td>none</td>\n",
       "      <td>0.0</td>\n",
       "      <td>NaN</td>\n",
       "      <td>NaN</td>\n",
       "      <td>...</td>\n",
       "      <td>243</td>\n",
       "      <td>153</td>\n",
       "      <td>46</td>\n",
       "      <td>NaN</td>\n",
       "      <td>2010-10-03 11:14:24</td>\n",
       "      <td>NaN</td>\n",
       "      <td>michaelkors; jamesbond007; 007style; jamesbond...</td>\n",
       "      <td>False</td>\n",
       "      <td>Michael Kors Unveils Exclusive Panership and C...</td>\n",
       "      <td>michael kors unveil exclusive panership capsul...</td>\n",
       "    </tr>\n",
       "    <tr>\n",
       "      <th>20383</th>\n",
       "      <td>20383</td>\n",
       "      <td>1225712282992291840</td>\n",
       "      <td>1581067555</td>\n",
       "      <td>2020-02-07 09:25:55</td>\n",
       "      <td>schuhkurier</td>\n",
       "      <td>#Coronavirus: Michael Kors-Mutter rechnet mit ...</td>\n",
       "      <td>none</td>\n",
       "      <td>0.0</td>\n",
       "      <td>NaN</td>\n",
       "      <td>NaN</td>\n",
       "      <td>...</td>\n",
       "      <td>272</td>\n",
       "      <td>99</td>\n",
       "      <td>24</td>\n",
       "      <td>NaN</td>\n",
       "      <td>2009-08-19 13:37:30</td>\n",
       "      <td>NaN</td>\n",
       "      <td>Coronavirus; michaelkors; umsatz; trends; fashion</td>\n",
       "      <td>False</td>\n",
       "      <td>Coronavirus: Michael Kors-Mutter rechnet mit M...</td>\n",
       "      <td>coronavirus michael kors mutter rechnen millio...</td>\n",
       "    </tr>\n",
       "    <tr>\n",
       "      <th>50475</th>\n",
       "      <td>50475</td>\n",
       "      <td>1226236898332565504</td>\n",
       "      <td>1581192633</td>\n",
       "      <td>2020-02-08 20:10:33</td>\n",
       "      <td>jumpmane24</td>\n",
       "      <td>New Michael Kors Bag @MichaelKors . . . . . . ...</td>\n",
       "      <td>none</td>\n",
       "      <td>0.0</td>\n",
       "      <td>NaN</td>\n",
       "      <td>NaN</td>\n",
       "      <td>...</td>\n",
       "      <td>50</td>\n",
       "      <td>730</td>\n",
       "      <td>0</td>\n",
       "      <td>NaN</td>\n",
       "      <td>2019-03-04 04:54:11</td>\n",
       "      <td>MichaelKors</td>\n",
       "      <td>stl; fitness; blackmen; missouri; teamblackmen...</td>\n",
       "      <td>False</td>\n",
       "      <td>New Michael Kors Bag MichaelKors . . . . . . ....</td>\n",
       "      <td>new michael kors bag michael kors ➖➖➖➖➖➖➖➖➖➖➖➖...</td>\n",
       "    </tr>\n",
       "    <tr>\n",
       "      <th>75285</th>\n",
       "      <td>75285</td>\n",
       "      <td>1226585714327990275</td>\n",
       "      <td>1581275797</td>\n",
       "      <td>2020-02-09 19:16:37</td>\n",
       "      <td>MichaelKors</td>\n",
       "      <td>A preview of the MKC Monogramme North-South to...</td>\n",
       "      <td>none</td>\n",
       "      <td>0.0</td>\n",
       "      <td>NaN</td>\n",
       "      <td>NaN</td>\n",
       "      <td>...</td>\n",
       "      <td>587</td>\n",
       "      <td>3538</td>\n",
       "      <td>8597</td>\n",
       "      <td>NaN</td>\n",
       "      <td>2010-06-08 17:15:41</td>\n",
       "      <td>NaN</td>\n",
       "      <td>MichaelKorsCollection; AllAccessKors; NYFW</td>\n",
       "      <td>False</td>\n",
       "      <td>A preview of the MKC Monogramme Noh-South tote...</td>\n",
       "      <td>preview mkc monogramme noh south tote upcoming...</td>\n",
       "    </tr>\n",
       "    <tr>\n",
       "      <th>75298</th>\n",
       "      <td>75298</td>\n",
       "      <td>1226585857408348162</td>\n",
       "      <td>1581275831</td>\n",
       "      <td>2020-02-09 19:17:11</td>\n",
       "      <td>CountRessYvonne</td>\n",
       "      <td>RT @MichaelKors: A preview of the MKC Monogram...</td>\n",
       "      <td>none</td>\n",
       "      <td>NaN</td>\n",
       "      <td>NaN</td>\n",
       "      <td>NaN</td>\n",
       "      <td>...</td>\n",
       "      <td>59</td>\n",
       "      <td>96988</td>\n",
       "      <td>2</td>\n",
       "      <td>NaN</td>\n",
       "      <td>2017-10-15 17:05:50</td>\n",
       "      <td>MichaelKors</td>\n",
       "      <td>MichaelKorsCollection; AllAccessKors; NYFW</td>\n",
       "      <td>True</td>\n",
       "      <td>A preview of the MKC Monogramme Noh-South tote...</td>\n",
       "      <td>preview mkc monogramme noh south tote upcoming...</td>\n",
       "    </tr>\n",
       "  </tbody>\n",
       "</table>\n",
       "<p>5 rows × 42 columns</p>\n",
       "</div>"
      ],
      "text/plain": [
       "       Unnamed: 0                   id        time           created_at  \\\n",
       "4576         4576  1225446231230623745  1581004123  2020-02-06 15:48:43   \n",
       "20383       20383  1225712282992291840  1581067555  2020-02-07 09:25:55   \n",
       "50475       50475  1226236898332565504  1581192633  2020-02-08 20:10:33   \n",
       "75285       75285  1226585714327990275  1581275797  2020-02-09 19:16:37   \n",
       "75298       75298  1226585857408348162  1581275831  2020-02-09 19:17:11   \n",
       "\n",
       "        from_user_name                                               text  \\\n",
       "4576        RitzHerald  Michael Kors Unveils Exclusive Partnership and...   \n",
       "20383      schuhkurier  #Coronavirus: Michael Kors-Mutter rechnet mit ...   \n",
       "50475       jumpmane24  New Michael Kors Bag @MichaelKors . . . . . . ...   \n",
       "75285      MichaelKors  A preview of the MKC Monogramme North-South to...   \n",
       "75298  CountRessYvonne  RT @MichaelKors: A preview of the MKC Monogram...   \n",
       "\n",
       "      filter_level  possibly_sensitive  withheld_copyright withheld_scope  \\\n",
       "4576          none                 0.0                 NaN            NaN   \n",
       "20383         none                 0.0                 NaN            NaN   \n",
       "50475         none                 0.0                 NaN            NaN   \n",
       "75285         none                 0.0                 NaN            NaN   \n",
       "75298         none                 NaN                 NaN            NaN   \n",
       "\n",
       "       ...  from_user_friendcount  from_user_favourites_count  \\\n",
       "4576   ...                    243                         153   \n",
       "20383  ...                    272                          99   \n",
       "50475  ...                     50                         730   \n",
       "75285  ...                    587                        3538   \n",
       "75298  ...                     59                       96988   \n",
       "\n",
       "       from_user_listed from_user_withheld_scope from_user_created_at  \\\n",
       "4576                 46                      NaN  2010-10-03 11:14:24   \n",
       "20383                24                      NaN  2009-08-19 13:37:30   \n",
       "50475                 0                      NaN  2019-03-04 04:54:11   \n",
       "75285              8597                      NaN  2010-06-08 17:15:41   \n",
       "75298                 2                      NaN  2017-10-15 17:05:50   \n",
       "\n",
       "          mentions                                           hashtags  \\\n",
       "4576           NaN  michaelkors; jamesbond007; 007style; jamesbond...   \n",
       "20383          NaN  Coronavirus; michaelkors; umsatz; trends; fashion   \n",
       "50475  MichaelKors  stl; fitness; blackmen; missouri; teamblackmen...   \n",
       "75285          NaN         MichaelKorsCollection; AllAccessKors; NYFW   \n",
       "75298  MichaelKors         MichaelKorsCollection; AllAccessKors; NYFW   \n",
       "\n",
       "      is_retweet                                         clean_text  \\\n",
       "4576       False  Michael Kors Unveils Exclusive Panership and C...   \n",
       "20383      False  Coronavirus: Michael Kors-Mutter rechnet mit M...   \n",
       "50475      False  New Michael Kors Bag MichaelKors . . . . . . ....   \n",
       "75285      False  A preview of the MKC Monogramme Noh-South tote...   \n",
       "75298       True  A preview of the MKC Monogramme Noh-South tote...   \n",
       "\n",
       "                                              lemmatized  \n",
       "4576   michael kors unveil exclusive panership capsul...  \n",
       "20383  coronavirus michael kors mutter rechnen millio...  \n",
       "50475  new michael kors bag michael kors ➖➖➖➖➖➖➖➖➖➖➖➖...  \n",
       "75285  preview mkc monogramme noh south tote upcoming...  \n",
       "75298  preview mkc monogramme noh south tote upcoming...  \n",
       "\n",
       "[5 rows x 42 columns]"
      ]
     },
     "execution_count": 5,
     "metadata": {},
     "output_type": "execute_result"
    }
   ],
   "source": [
    "tweets = df[df['lemmatized'].str.contains('michaelkors')]\n",
    "tweets['lemmatized'] = tweets['lemmatized'].apply(lambda x : x.replace('michaelkors', ''))\n",
    "tweets.head()"
   ]
  },
  {
   "cell_type": "markdown",
   "metadata": {},
   "source": [
    "# We can now proceed with the proper LDA "
   ]
  },
  {
   "cell_type": "code",
   "execution_count": 6,
   "metadata": {},
   "outputs": [
    {
     "data": {
      "text/plain": [
       "['allaccesskors',\n",
       " 'am',\n",
       " 'animalprint',\n",
       " 'arlette',\n",
       " 'arrive',\n",
       " 'ashbenzo',\n",
       " 'backstage',\n",
       " 'bag',\n",
       " 'bella',\n",
       " 'black',\n",
       " 'blake',\n",
       " 'blakelively',\n",
       " 'blomqvist',\n",
       " 'boot',\n",
       " 'call',\n",
       " 'cameron',\n",
       " 'chain',\n",
       " 'chicago',\n",
       " 'day',\n",
       " 'debut',\n",
       " 'discover',\n",
       " 'dove',\n",
       " 'ebay',\n",
       " 'ebayfashion',\n",
       " 'ebayfind',\n",
       " 'entire',\n",
       " 'est',\n",
       " 'estatesale',\n",
       " 'fashion',\n",
       " 'fashionauction',\n",
       " 'first',\n",
       " 'getty',\n",
       " 'hadid',\n",
       " 'ig',\n",
       " 'image',\n",
       " 'images',\n",
       " 'imyour',\n",
       " 'imyour_joy',\n",
       " 'issarae',\n",
       " 'joy',\n",
       " 'korscollection',\n",
       " 'line',\n",
       " 'list',\n",
       " 'live',\n",
       " 'lively',\n",
       " 'local',\n",
       " 'look',\n",
       " 'losangele',\n",
       " 'love',\n",
       " 'macys',\n",
       " 'make',\n",
       " 'matching',\n",
       " 'michael',\n",
       " 'mkc',\n",
       " 'moda',\n",
       " 'modcloth',\n",
       " 'monogramme',\n",
       " 'more',\n",
       " 'morning',\n",
       " 'new',\n",
       " 'newyork',\n",
       " 'noh',\n",
       " 'nordstrom',\n",
       " 'ny',\n",
       " 'orville',\n",
       " 'peck',\n",
       " 'peek',\n",
       " 'preview',\n",
       " 'redvelvet',\n",
       " 'rockabilly',\n",
       " 'rvsmtown',\n",
       " 'sara',\n",
       " 'say',\n",
       " 'see',\n",
       " 'setting',\n",
       " 'sho',\n",
       " 'shop',\n",
       " 'shos',\n",
       " 'sneak',\n",
       " 'south',\n",
       " 'spread',\n",
       " 'stage',\n",
       " 'stop',\n",
       " 'store',\n",
       " 'style',\n",
       " 'take',\n",
       " 'then',\n",
       " 'thrifty',\n",
       " 'thriftyfashion',\n",
       " 'thriftyfind',\n",
       " 'tomorrow',\n",
       " 'tote',\n",
       " 'travel',\n",
       " 'upcoming',\n",
       " 'valentine',\n",
       " 'walk',\n",
       " 'watch',\n",
       " 'wednesday',\n",
       " 'white',\n",
       " 'xl',\n",
       " 'york',\n",
       " 'ของ',\n",
       " 'จอยใน',\n",
       " 'ジョイ',\n",
       " 'フォトコール',\n",
       " 'マイケルコース',\n",
       " 'ランウェイショー',\n",
       " '予定',\n",
       " '午前',\n",
       " '模様',\n",
       " '登場',\n",
       " '配信',\n",
       " '레드벨벳']"
      ]
     },
     "execution_count": 6,
     "metadata": {},
     "output_type": "execute_result"
    }
   ],
   "source": [
    "from sklearn.feature_extraction.text import CountVectorizer\n",
    "\n",
    "# the vectorizer object will be used to transform text to vector form\n",
    "vectorizer = CountVectorizer(max_df=0.9, min_df=10, lowercase=True)\n",
    "\n",
    "# apply transformation\n",
    "tf = vectorizer.fit_transform(tweets['lemmatized']) #.toarray()\n",
    "\n",
    "# tf_feature_names tells us what word each column in the matric represents\n",
    "tf_feature_names = vectorizer.get_feature_names()\n",
    "\n",
    "tf_feature_names[:-1]"
   ]
  },
  {
   "cell_type": "code",
   "execution_count": 7,
   "metadata": {},
   "outputs": [],
   "source": [
    "# Helper function to plot the most common words \n",
    "def plot_10_most_common_words(count_data, count_vectorizer):\n",
    "    import matplotlib.pyplot as plt\n",
    "    words = count_vectorizer.get_feature_names()\n",
    "    total_counts = np.zeros(len(words))\n",
    "    for t in count_data:\n",
    "        total_counts+=t.toarray()[0]\n",
    "    \n",
    "    count_dict = (zip(words, total_counts))\n",
    "    count_dict = sorted(count_dict, key=lambda x:x[1], reverse=True)[0:10]\n",
    "    words = [w[0] for w in count_dict]\n",
    "    counts = [w[1] for w in count_dict]\n",
    "    x_pos = np.arange(len(words)) \n",
    "    \n",
    "    plt.figure(2, figsize=(15, 15/1.6180))\n",
    "    plt.subplot(title='10 most common words')\n",
    "    sns.set_context(\"notebook\", font_scale=1.25, rc={\"lines.linewidth\": 2.5})\n",
    "    sns.barplot(x_pos, counts, palette='husl')\n",
    "    plt.xticks(x_pos, words, rotation=90) \n",
    "    plt.xlabel('words')\n",
    "    plt.ylabel('counts')\n",
    "    plt.show()"
   ]
  },
  {
   "cell_type": "code",
   "execution_count": 8,
   "metadata": {
    "scrolled": false
   },
   "outputs": [
    {
     "data": {
      "image/png": "[encoded data removed]",
      "text/plain": [
       "<Figure size 1080x667.491 with 1 Axes>"
      ]
     },
     "metadata": {},
     "output_type": "display_data"
    }
   ],
   "source": [
    "plot_10_most_common_words(tf,vectorizer)"
   ]
  },
  {
   "cell_type": "markdown",
   "metadata": {},
   "source": [
    "## Fit LDA model\n",
    "We start by trying with a model with 5 topics.\n",
    "- `n_components`: number of topics = 3\n",
    "- `learning_decay`: which controls the learning rate = 0.9."
   ]
  },
  {
   "cell_type": "code",
   "execution_count": 9,
   "metadata": {},
   "outputs": [],
   "source": [
    "from sklearn.decomposition import LatentDirichletAllocation\n",
    "\n",
    "number_of_topics = 4\n",
    "learning_decay = 0.9\n",
    "random_state = 1234\n",
    "\n",
    "model = LatentDirichletAllocation(n_components=number_of_topics,n_jobs = -1, evaluate_every = -1, \n",
    "                                  random_state=random_state, learning_decay=learning_decay) # random state for reproducibility"
   ]
  },
  {
   "cell_type": "code",
   "execution_count": 10,
   "metadata": {},
   "outputs": [],
   "source": [
    "lda_output = model.fit_transform(tf)"
   ]
  },
  {
   "cell_type": "markdown",
   "metadata": {},
   "source": [
    "### Diagnose model performance with perplexity and log-likelihood\n",
    "\n",
    "A model with higher log-likelihood and lower perplexity (exp(-1. * log-likelihood per word)) is considered to be good."
   ]
  },
  {
   "cell_type": "code",
   "execution_count": 11,
   "metadata": {},
   "outputs": [
    {
     "name": "stdout",
     "output_type": "stream",
     "text": [
      "Log Likelihood:  -135942.23445516493\n",
      "Perplexity:  16.883881352934157\n",
      "{'batch_size': 128, 'doc_topic_prior': None, 'evaluate_every': -1, 'learning_decay': 0.9, 'learning_method': 'batch', 'learning_offset': 10.0, 'max_doc_update_iter': 100, 'max_iter': 10, 'mean_change_tol': 0.001, 'n_components': 4, 'n_jobs': -1, 'perp_tol': 0.1, 'random_state': 1234, 'topic_word_prior': None, 'total_samples': 1000000.0, 'verbose': 0}\n"
     ]
    }
   ],
   "source": [
    "# Log Likelyhood: Higher the better\n",
    "print(\"Log Likelihood: \", model.score(tf))\n",
    "\n",
    "# Perplexity: Lower the better. Perplexity = exp(-1. * log-likelihood per word)\n",
    "print(\"Perplexity: \", model.perplexity(tf))\n",
    "\n",
    "# See model parameters\n",
    "print(model.get_params())"
   ]
  },
  {
   "cell_type": "code",
   "execution_count": 12,
   "metadata": {},
   "outputs": [],
   "source": [
    "# Helper function\n",
    "def print_topics(model, count_vectorizer, n_top_words, array):\n",
    "    words = count_vectorizer.get_feature_names()\n",
    "    for topic_idx, topic in enumerate(model.components_):\n",
    "        print(\"\\nTopic #%d:\" % topic_idx)\n",
    "        print(\" \".join([words[i]\n",
    "                        for i in topic.argsort()[:-n_top_words - 1:-1]]))\n",
    "        array.append([words[i]\n",
    "                        for i in topic.argsort()[:-n_top_words - 1:-1]])"
   ]
  },
  {
   "cell_type": "code",
   "execution_count": 13,
   "metadata": {},
   "outputs": [
    {
     "name": "stdout",
     "output_type": "stream",
     "text": [
      "Topics found via LDA:\n",
      "\n",
      "Topic #0:\n",
      "hadid bella morning new style discover tomorrow michael fashion valentine day ebay backstage york newyork arrive cameron dove losangele rockabilly\n",
      "\n",
      "Topic #1:\n",
      "am est wednesday live upcoming watch tote mkc monogramme entire store south preview noh discover boot sneak arlette peek more\n",
      "\n",
      "Topic #2:\n",
      "joy rvsmtown stop 조이 redvelvet 레드벨벳 getty image arrive blakelively blake lively imyour_joy images จอยใน ของ ig michael ashbenzo imyour\n",
      "\n",
      "Topic #3:\n",
      "bag first mkc walk shop monogramme see list store call local then love wednesday chain take orville peck stage allaccesskors\n"
     ]
    }
   ],
   "source": [
    "print(\"Topics found via LDA:\")\n",
    "number_of_words = 20\n",
    "array = []\n",
    "print_topics(model, vectorizer, number_of_words, array)"
   ]
  },
  {
   "cell_type": "code",
   "execution_count": 52,
   "metadata": {
    "scrolled": false
   },
   "outputs": [
    {
     "data": {
      "text/html": [
       "\n",
       "<link rel=\"stylesheet\" type=\"text/css\" href=\"https://cdn.rawgit.com/bmabey/pyLDAvis/files/ldavis.v1.0.0.css\">\n",
       "\n",
       "\n",
       "<div id=\"ldavis_el234950516393763457582645\"></div>\n",
       "<script type=\"text/javascript\">\n",
       "\n",
       "var ldavis_el234950516393763457582645_data = {\"mdsDat\": {\"x\": [-0.3517552579400161, 0.24798046169095617, 0.2654341842678276, -0.1616593880187682], \"y\": [-0.2661988164979547, -0.022074964622145882, -0.09731008167955629, 0.3855838627996568], \"topics\": [1, 2, 3, 4], \"cluster\": [1, 1, 1, 1], \"Freq\": [43.64203709753495, 28.329345138331586, 18.510052150125272, 9.518565614008184]}, \"tinfo\": {\"Term\": [\"joy\", \"rvsmtown\", \"stop\", \"bag\", \"hadid\", \"bella\", \"morning\", \"est\", \"am\", \"discover\", \"wednesday\", \"live\", \"new\", \"style\", \"tomorrow\", \"upcoming\", \"watch\", \"first\", \"mkc\", \"walk\", \"monogramme\", \"store\", \"shop\", \"list\", \"call\", \"then\", \"local\", \"love\", \"chain\", \"see\", \"joy\", \"rvsmtown\", \"stop\", \"\\uc870\\uc774\", \"redvelvet\", \"\\ub808\\ub4dc\\ubca8\\ubcb3\", \"getty\", \"image\", \"blakelively\", \"blake\", \"lively\", \"imyour_joy\", \"images\", \"ig\", \"\\u0e02\\u0e2d\\u0e07\", \"\\u0e08\\u0e2d\\u0e22\\u0e43\\u0e19\", \"ashbenzo\", \"arrive\", \"michael\", \"imyour\", \"\\u30b8\\u30e7\\u30a4\", \"ny\", \"\\u6a21\\u69d8\", \"spread\", \"sara\", \"korscollection\", \"blomqvist\", \"matching\", \"say\", \"moda\", \"\\u30d5\\u30a9\\u30c8\\u30b3\\u30fc\\u30eb\", \"\\u767b\\u5834\", \"\\u30e9\\u30f3\\u30a6\\u30a7\\u30a4\\u30b7\\u30e7\\u30fc\", \"\\u30de\\u30a4\\u30b1\\u30eb\\u30b3\\u30fc\\u30b9\", \"allaccesskors\", \"issarae\", \"est\", \"am\", \"live\", \"upcoming\", \"watch\", \"tote\", \"entire\", \"south\", \"noh\", \"preview\", \"boot\", \"sneak\", \"peek\", \"arlette\", \"more\", \"make\", \"debut\", \"wednesday\", \"discover\", \"store\", \"monogramme\", \"mkc\", \"see\", \"bag\", \"\\u6a21\\u69d8\", \"ny\", \"matching\", \"say\", \"spread\", \"korscollection\", \"sara\", \"blomqvist\", \"ashbenzo\", \"travel\", \"line\", \"xl\", \"first\", \"walk\", \"shop\", \"list\", \"then\", \"local\", \"call\", \"love\", \"chain\", \"take\", \"stage\", \"peck\", \"orville\", \"allaccesskors\", \"\\u30de\\u30a4\\u30b1\\u30eb\\u30b3\\u30fc\\u30b9\", \"\\u30e9\\u30f3\\u30a6\\u30a7\\u30a4\\u30b7\\u30e7\\u30fc\", \"look\", \"issarae\", \"line\", \"\\u767b\\u5834\", \"\\u4e88\\u5b9a\", \"\\u914d\\u4fe1\", \"\\u5348\\u524d\", \"\\u30d5\\u30a9\\u30c8\\u30b3\\u30fc\\u30eb\", \"xl\", \"travel\", \"setting\", \"\\u6a21\\u69d8\", \"ny\", \"bag\", \"see\", \"mkc\", \"monogramme\", \"store\", \"wednesday\", \"day\", \"hadid\", \"bella\", \"morning\", \"new\", \"style\", \"tomorrow\", \"fashion\", \"valentine\", \"ebay\", \"backstage\", \"york\", \"newyork\", \"cameron\", \"dove\", \"thrifty\", \"thriftyfashion\", \"thriftyfind\", \"sho\", \"chicago\", \"macys\", \"black\", \"estatesale\", \"rockabilly\", \"animalprint\", \"white\", \"fashionauction\", \"nordstrom\", \"ebayfashion\", \"losangele\", \"modcloth\", \"ebayfind\", \"shos\", \"michael\", \"discover\", \"day\", \"arrive\"], \"Freq\": [6200.0, 6190.0, 5911.0, 1665.0, 707.0, 707.0, 706.0, 1208.0, 1208.0, 888.0, 1651.0, 927.0, 430.0, 421.0, 418.0, 782.0, 757.0, 486.0, 947.0, 471.0, 938.0, 936.0, 467.0, 465.0, 464.0, 464.0, 464.0, 457.0, 444.0, 777.0, 6199.232998705696, 6189.912492581595, 5910.295788557708, 378.11796604725964, 378.11796604725964, 377.2706426210705, 349.3089723988055, 277.2864328720514, 144.25538977370957, 143.40895068269197, 143.40895068269197, 113.75168233185653, 72.23402560785675, 28.17288097148562, 28.17288097148562, 28.17288097148562, 20.519693605851543, 151.62107060718185, 27.996073623988757, 4.988917581836552, 4.988770168578389, 0.21190095102195275, 0.21188061872916128, 0.21774713616556557, 0.21183463203643232, 0.21183463203643232, 0.21183463203643232, 0.2118543290688466, 0.211854318740161, 0.21184411917264345, 0.213320771456014, 0.21295394670207593, 0.21253300785765666, 0.21242649396340127, 0.2124041275155866, 0.211896423111126, 1207.277870510138, 1207.277870510138, 926.9944306412303, 782.0324451014095, 756.2553575739682, 488.86339844326164, 471.6890692160702, 469.5416416626044, 469.5416416626044, 469.5416416626044, 426.5873441484019, 425.51364722629046, 425.51364722629046, 425.51364722629046, 313.8329675290091, 311.6853599313699, 311.6853599313699, 1206.8596669099734, 468.62199908803973, 471.3804974990776, 471.85289383387845, 472.1591288767478, 311.6321656432111, 309.7505023452861, 0.26956560602221313, 0.26863579835119694, 0.2998932258144677, 0.2998738144615653, 0.2685047951603381, 0.2684719402392602, 0.2684719402392602, 0.2684719402392602, 0.27036087756775207, 0.26996551709342603, 0.26997982220008676, 0.26996551708233346, 485.3466053041185, 471.010216874202, 466.23132776226305, 465.03662729660743, 463.84202985638075, 463.84202985638075, 463.84202985638075, 456.6717760506184, 443.53221004267937, 118.57283350891078, 114.98963081334843, 114.98963081334843, 114.98963081334843, 61.22663949140835, 58.83721666484157, 49.279581621434865, 50.43578881265235, 36.135697446774365, 33.74827055363558, 30.164319526786734, 26.580650642775993, 26.580192495699116, 26.58018169412469, 24.19034616305893, 21.80154593239277, 21.80154593238044, 20.608274672076757, 12.24429734176312, 12.240294174620368, 1354.850751350709, 465.09605595941053, 475.26625795462604, 466.04935457835796, 464.1856884656441, 443.9975338995844, 25.13944299715009, 706.941639443744, 706.9415019259612, 705.5534375281825, 429.3012523798213, 420.97204757931127, 418.19565228603665, 55.87252458210913, 40.60290339677743, 30.88747744578873, 28.111022992883857, 19.78146229697209, 18.393641781336388, 17.00537645307512, 17.00537645307512, 15.617258349227408, 15.617258349227408, 15.617258349227408, 15.617258349227408, 15.617258349227408, 15.617258349227408, 15.617258349227408, 15.617258349227408, 15.617258349227408, 15.617258349227408, 15.617258349227408, 15.617258349227408, 15.617258349227408, 15.617258349227408, 15.617258349227408, 15.617258349227408, 15.617258349227408, 15.617258349227408, 78.37431669379576, 419.38461178499324, 38.11494675123053, 17.43373465339394], \"Total\": [6200.0, 6190.0, 5911.0, 1665.0, 707.0, 707.0, 706.0, 1208.0, 1208.0, 888.0, 1651.0, 927.0, 430.0, 421.0, 418.0, 782.0, 757.0, 486.0, 947.0, 471.0, 938.0, 936.0, 467.0, 465.0, 464.0, 464.0, 464.0, 457.0, 444.0, 777.0, 6200.148950877911, 6190.828352076787, 5911.211352602214, 379.0327156156244, 379.0327156156244, 378.1853913329143, 350.22368466992054, 278.2011452230064, 145.17179775694913, 144.3241080860592, 144.3241080860592, 114.66831239680572, 73.14873911842378, 29.088095664790657, 29.088095664790657, 29.088095664790657, 21.473435780020807, 169.62242342876704, 106.93978344332302, 20.672205031180145, 20.67226546494535, 13.073791951210046, 13.072884365113783, 15.004234971258807, 15.008028836571686, 15.008028836571686, 15.008028836571686, 16.37692144373951, 16.376943677450114, 16.396136266094796, 25.019404440099102, 30.993049617540724, 50.10836474957547, 59.66602534459236, 62.05543504314068, 36.967563440307, 1208.135599963735, 1208.135599963735, 927.8612344418474, 782.8902476416613, 757.1183291222563, 489.7295167929734, 472.54710051567173, 470.3993275020385, 470.3993275020385, 470.3993275020385, 427.4453102761702, 426.37141336287067, 426.37141336287067, 426.37141336287067, 314.690819974094, 312.5431048036403, 312.5431048036403, 1651.4162512728656, 888.5172386251327, 936.125281402132, 938.4615471634783, 947.9846813303898, 777.2872735330174, 1665.1609923182934, 13.072884365113783, 13.073791951210046, 16.37692144373951, 16.376943677450114, 15.004234971258807, 15.008028836571686, 15.008028836571686, 15.008028836571686, 21.473435780020807, 22.630450365633617, 34.57747537012038, 22.630450365634854, 486.17408797455994, 471.83769271520987, 467.0589094815917, 465.8642096938755, 464.6694936225641, 464.6694936225641, 464.6694936225641, 457.5016470224044, 444.3596064096362, 119.40136882822523, 115.817204270013, 115.817204270013, 115.817204270013, 62.05543504314068, 59.66602534459236, 50.10836474957547, 51.309849239548015, 36.967563440307, 34.57747537012038, 30.993049617540724, 27.40934913636809, 27.40930249519288, 27.40930156630754, 25.019404440099102, 22.630450365634854, 22.630450365633617, 21.4359347047267, 13.072884365113783, 13.073791951210046, 1665.1609923182934, 777.2872735330174, 947.9846813303898, 938.4615471634783, 936.125281402132, 1651.4162512728656, 63.73594268458821, 707.7206789057199, 707.7206588172202, 706.3324771416146, 430.08032950117956, 421.7511200146183, 418.97471771260973, 56.65369032857901, 41.38358662659605, 31.66645502043856, 28.89004110702408, 20.560777634495714, 19.172635343886103, 17.784419874530013, 17.784419874530013, 16.39623602237912, 16.39623602237912, 16.39623602237912, 16.39623602237912, 16.39623602237912, 16.39623602237912, 16.39623602237912, 16.39623602237912, 16.39623602237912, 16.39623602237912, 16.39623602237912, 16.39623602237912, 16.39623602237912, 16.39623602237912, 16.39623602237912, 16.39623602237912, 16.39623602237912, 16.39623602237912, 106.93978344332302, 888.5172386251327, 63.73594268458821, 169.62242342876704], \"Category\": [\"Default\", \"Default\", \"Default\", \"Default\", \"Default\", \"Default\", \"Default\", \"Default\", \"Default\", \"Default\", \"Default\", \"Default\", \"Default\", \"Default\", \"Default\", \"Default\", \"Default\", \"Default\", \"Default\", \"Default\", \"Default\", \"Default\", \"Default\", \"Default\", \"Default\", \"Default\", \"Default\", \"Default\", \"Default\", \"Default\", \"Topic1\", \"Topic1\", \"Topic1\", \"Topic1\", \"Topic1\", \"Topic1\", \"Topic1\", \"Topic1\", \"Topic1\", \"Topic1\", \"Topic1\", \"Topic1\", \"Topic1\", \"Topic1\", \"Topic1\", \"Topic1\", \"Topic1\", \"Topic1\", \"Topic1\", \"Topic1\", \"Topic1\", \"Topic1\", \"Topic1\", \"Topic1\", \"Topic1\", \"Topic1\", \"Topic1\", \"Topic1\", \"Topic1\", \"Topic1\", \"Topic1\", \"Topic1\", \"Topic1\", \"Topic1\", \"Topic1\", \"Topic1\", \"Topic2\", \"Topic2\", \"Topic2\", \"Topic2\", \"Topic2\", \"Topic2\", \"Topic2\", \"Topic2\", \"Topic2\", \"Topic2\", \"Topic2\", \"Topic2\", \"Topic2\", \"Topic2\", \"Topic2\", \"Topic2\", \"Topic2\", \"Topic2\", \"Topic2\", \"Topic2\", \"Topic2\", \"Topic2\", \"Topic2\", \"Topic2\", \"Topic2\", \"Topic2\", \"Topic2\", \"Topic2\", \"Topic2\", \"Topic2\", \"Topic2\", \"Topic2\", \"Topic2\", \"Topic2\", \"Topic2\", \"Topic2\", \"Topic3\", \"Topic3\", \"Topic3\", \"Topic3\", \"Topic3\", \"Topic3\", \"Topic3\", \"Topic3\", \"Topic3\", \"Topic3\", \"Topic3\", \"Topic3\", \"Topic3\", \"Topic3\", \"Topic3\", \"Topic3\", \"Topic3\", \"Topic3\", \"Topic3\", \"Topic3\", \"Topic3\", \"Topic3\", \"Topic3\", \"Topic3\", \"Topic3\", \"Topic3\", \"Topic3\", \"Topic3\", \"Topic3\", \"Topic3\", \"Topic3\", \"Topic3\", \"Topic3\", \"Topic3\", \"Topic3\", \"Topic3\", \"Topic4\", \"Topic4\", \"Topic4\", \"Topic4\", \"Topic4\", \"Topic4\", \"Topic4\", \"Topic4\", \"Topic4\", \"Topic4\", \"Topic4\", \"Topic4\", \"Topic4\", \"Topic4\", \"Topic4\", \"Topic4\", \"Topic4\", \"Topic4\", \"Topic4\", \"Topic4\", \"Topic4\", \"Topic4\", \"Topic4\", \"Topic4\", \"Topic4\", \"Topic4\", \"Topic4\", \"Topic4\", \"Topic4\", \"Topic4\", \"Topic4\", \"Topic4\", \"Topic4\", \"Topic4\", \"Topic4\", \"Topic4\"], \"logprob\": [30.0, 29.0, 28.0, 27.0, 26.0, 25.0, 24.0, 23.0, 22.0, 21.0, 20.0, 19.0, 18.0, 17.0, 16.0, 15.0, 14.0, 13.0, 12.0, 11.0, 10.0, 9.0, 8.0, 7.0, 6.0, 5.0, 4.0, 3.0, 2.0, 1.0, -1.2197, -1.2212, -1.2674, -4.0166, -4.0166, -4.0189, -4.0959, -4.3268, -4.9803, -4.9861, -4.9861, -5.2178, -5.6719, -6.6135, -6.6135, -6.6135, -6.9305, -4.9305, -6.6198, -8.3446, -8.3447, -11.5035, -11.5036, -11.4763, -11.5038, -11.5038, -11.5038, -11.5037, -11.5037, -11.5038, -11.4968, -11.4985, -11.5005, -11.501, -11.5011, -11.5035, -2.4236, -2.4236, -2.6878, -2.8578, -2.8913, -3.3276, -3.3634, -3.368, -3.368, -3.368, -3.4639, -3.4664, -3.4664, -3.4664, -3.7709, -3.7777, -3.7777, -2.4239, -3.3699, -3.3641, -3.3631, -3.3624, -3.7779, -3.784, -10.8307, -10.8341, -10.7241, -10.7241, -10.8346, -10.8347, -10.8347, -10.8347, -10.8277, -10.8292, -10.8291, -10.8292, -2.9093, -2.9393, -2.9495, -2.952, -2.9546, -2.9546, -2.9546, -2.9702, -2.9994, -4.3186, -4.3493, -4.3493, -4.3493, -4.9796, -5.0194, -5.1966, -5.1734, -5.5069, -5.5752, -5.6875, -5.814, -5.814, -5.814, -5.9082, -6.0122, -6.0122, -6.0684, -6.5891, -6.5894, -1.8827, -2.9519, -2.9303, -2.9498, -2.9539, -2.9983, -5.8697, -1.8681, -1.8681, -1.8701, -2.3669, -2.3865, -2.3931, -4.406, -4.7252, -4.9987, -5.0929, -5.4443, -5.5171, -5.5955, -5.5955, -5.6807, -5.6807, -5.6807, -5.6807, -5.6807, -5.6807, -5.6807, -5.6807, -5.6807, -5.6807, -5.6807, -5.6807, -5.6807, -5.6807, -5.6807, -5.6807, -5.6807, -5.6807, -4.0676, -2.3903, -4.7885, -5.5707], \"loglift\": [30.0, 29.0, 28.0, 27.0, 26.0, 25.0, 24.0, 23.0, 22.0, 21.0, 20.0, 19.0, 18.0, 17.0, 16.0, 15.0, 14.0, 13.0, 12.0, 11.0, 10.0, 9.0, 8.0, 7.0, 6.0, 5.0, 4.0, 3.0, 2.0, 1.0, 0.829, 0.829, 0.829, 0.8267, 0.8267, 0.8267, 0.8265, 0.8259, 0.8228, 0.8228, 0.8228, 0.8211, 0.8166, 0.7972, 0.7972, 0.7972, 0.7837, 0.717, -0.5111, -0.5924, -0.5925, -3.2931, -3.2931, -3.4036, -3.4314, -3.4314, -3.4314, -3.5186, -3.5186, -3.5198, -3.9355, -4.1513, -4.6337, -4.8088, -4.8481, -4.3325, 1.2606, 1.2606, 1.2603, 1.2602, 1.2601, 1.2595, 1.2595, 1.2594, 1.2594, 1.2594, 1.2593, 1.2593, 1.2593, 1.2593, 1.2585, 1.2585, 1.2585, 0.9477, 0.6215, 0.5752, 0.5737, 0.5642, 0.3473, -0.4206, -2.6202, -2.6237, -2.7389, -2.739, -2.7619, -2.7623, -2.7623, -2.7623, -3.1135, -3.1675, -3.5913, -3.1675, 1.6852, 1.6851, 1.6851, 1.6851, 1.6851, 1.6851, 1.6851, 1.685, 1.685, 1.6799, 1.6797, 1.6797, 1.6797, 1.6734, 1.6729, 1.6702, 1.6697, 1.6641, 1.6626, 1.6598, 1.6562, 1.6561, 1.6561, 1.6532, 1.6495, 1.6495, 1.6475, 1.6214, 1.621, 1.4806, 1.1733, 0.9964, 0.9869, 0.9854, 0.3733, 0.7565, 2.3508, 2.3508, 2.3508, 2.3501, 2.3501, 2.3501, 2.338, 2.3329, 2.327, 2.3246, 2.3133, 2.3104, 2.3071, 2.3071, 2.3033, 2.3033, 2.3033, 2.3033, 2.3033, 2.3033, 2.3033, 2.3033, 2.3033, 2.3033, 2.3033, 2.3033, 2.3033, 2.3033, 2.3033, 2.3033, 2.3033, 2.3033, 2.0412, 1.6012, 1.8378, 0.0768]}, \"token.table\": {\"Topic\": [3, 2, 4, 2, 1, 4, 1, 4, 2, 3, 4, 4, 1, 1, 4, 2, 3, 4, 3, 4, 3, 4, 2, 2, 4, 4, 4, 4, 4, 2, 2, 4, 4, 4, 3, 1, 4, 1, 1, 1, 1, 3, 1, 3, 1, 4, 3, 3, 2, 1, 3, 3, 4, 3, 4, 2, 4, 1, 4, 2, 3, 4, 4, 2, 3, 2, 4, 4, 4, 2, 4, 3, 3, 3, 2, 2, 1, 4, 1, 4, 4, 2, 3, 3, 4, 3, 4, 2, 2, 4, 3, 1, 2, 3, 4, 3, 3, 4, 4, 4, 4, 2, 3, 2, 4, 3, 2, 2, 3, 4, 3, 4, 1, 1, 1, 3, 3, 3, 3, 3, 3, 3, 3, 3, 1, 1], \"Freq\": [0.9829920611722898, 0.9990600393169697, 0.9758337205052244, 0.9991288971276445, 0.8961079374262827, 0.10022259826478162, 0.9779524904691173, 0.9691921135132037, 0.1861681851965602, 0.8137351320688357, 0.9989817185520279, 0.9758337205052244, 0.9908254545715284, 0.9919281997257415, 0.9328340285357586, 0.9989582052593291, 0.9985592046997862, 0.9558928612760982, 0.9991907311005566, 0.9758337205052244, 0.3922433551146828, 0.5962098997743178, 0.9982623043180507, 0.5278456957410503, 0.47157216741044794, 0.9558928612760982, 0.978953911323247, 0.9758337205052244, 0.9758337205052244, 0.9988422307213932, 0.9990600393169697, 0.9758337205052244, 0.9884616461030561, 0.9758337205052244, 0.9975850461725525, 0.9965059911037317, 0.998981690196146, 0.9625930938439627, 0.9956824576619067, 0.9842958452562793, 0.2418706660686868, 0.7256119982060604, 0.994171777862283, 0.9738266915570628, 0.9998146897942268, 0.9328340285357586, 0.9832990880930712, 0.9981449322015027, 0.9990718068501208, 0.9908254545715284, 0.9985592046997862, 0.9744717776613847, 0.9758337205052244, 0.998903507723591, 0.9758337205052244, 0.9982623043180507, 0.9769845971946335, 0.26182959323870064, 0.7293824383078089, 0.49789834086517215, 0.5010629489638915, 0.9758396576079965, 0.9758337205052244, 0.5029508150084901, 0.4965573724448229, 0.9978047660425847, 0.9995292908759341, 0.9974880750709232, 0.9388380719262968, 0.9991510882803362, 0.9758337205052244, 0.9178668319629593, 0.9929440166064811, 0.9929440166064811, 0.9991288971276445, 0.9991510882803362, 0.9972753918775927, 0.9758337205052244, 0.9998661968916471, 0.9328340285357586, 0.97698327081816, 0.40139599685179583, 0.598234418384888, 0.9796633685103279, 0.9758337205052244, 0.9977328138697386, 0.9758337205052244, 0.9991288971276445, 0.9991510882803362, 0.933069898386525, 0.9929440166064811, 0.9997950754033383, 0.5031377843941298, 0.49566015277893044, 0.9982190444103805, 0.9966384905620082, 0.9985592046997862, 0.9758337205052244, 0.9758337205052244, 0.9758337205052244, 0.9976735643670072, 0.9985103679317704, 0.972141501585359, 0.9988628704414916, 0.9907309477533413, 0.9982246167948361, 0.9985229136856945, 0.7308878055848597, 0.26886013726568164, 0.9758337205052244, 0.9721415015853059, 0.9727258548064411, 0.9625930938439627, 0.9625930938439627, 0.24186995897854865, 0.7256098769356459, 0.9592554474052435, 0.9888374440773315, 0.9778806441775799, 0.9850653463410795, 0.9850670559657504, 0.9179305549449458, 0.9679589575793568, 0.9850670225824001, 0.9968655813786556, 0.9972753918775927], \"Term\": [\"allaccesskors\", \"am\", \"animalprint\", \"arlette\", \"arrive\", \"arrive\", \"ashbenzo\", \"backstage\", \"bag\", \"bag\", \"bella\", \"black\", \"blake\", \"blakelively\", \"blomqvist\", \"boot\", \"call\", \"cameron\", \"chain\", \"chicago\", \"day\", \"day\", \"debut\", \"discover\", \"discover\", \"dove\", \"ebay\", \"ebayfashion\", \"ebayfind\", \"entire\", \"est\", \"estatesale\", \"fashion\", \"fashionauction\", \"first\", \"getty\", \"hadid\", \"ig\", \"image\", \"images\", \"imyour\", \"imyour\", \"imyour_joy\", \"issarae\", \"joy\", \"korscollection\", \"line\", \"list\", \"live\", \"lively\", \"local\", \"look\", \"losangele\", \"love\", \"macys\", \"make\", \"matching\", \"michael\", \"michael\", \"mkc\", \"mkc\", \"moda\", \"modcloth\", \"monogramme\", \"monogramme\", \"more\", \"morning\", \"new\", \"newyork\", \"noh\", \"nordstrom\", \"ny\", \"orville\", \"peck\", \"peek\", \"preview\", \"redvelvet\", \"rockabilly\", \"rvsmtown\", \"sara\", \"say\", \"see\", \"see\", \"setting\", \"sho\", \"shop\", \"shos\", \"sneak\", \"south\", \"spread\", \"stage\", \"stop\", \"store\", \"store\", \"style\", \"take\", \"then\", \"thrifty\", \"thriftyfashion\", \"thriftyfind\", \"tomorrow\", \"tote\", \"travel\", \"upcoming\", \"valentine\", \"walk\", \"watch\", \"wednesday\", \"wednesday\", \"white\", \"xl\", \"york\", \"\\u0e02\\u0e2d\\u0e07\", \"\\u0e08\\u0e2d\\u0e22\\u0e43\\u0e19\", \"\\u30b8\\u30e7\\u30a4\", \"\\u30b8\\u30e7\\u30a4\", \"\\u30d5\\u30a9\\u30c8\\u30b3\\u30fc\\u30eb\", \"\\u30de\\u30a4\\u30b1\\u30eb\\u30b3\\u30fc\\u30b9\", \"\\u30e9\\u30f3\\u30a6\\u30a7\\u30a4\\u30b7\\u30e7\\u30fc\", \"\\u4e88\\u5b9a\", \"\\u5348\\u524d\", \"\\u6a21\\u69d8\", \"\\u767b\\u5834\", \"\\u914d\\u4fe1\", \"\\ub808\\ub4dc\\ubca8\\ubcb3\", \"\\uc870\\uc774\"]}, \"R\": 30, \"lambda.step\": 0.01, \"plot.opts\": {\"xlab\": \"PC1\", \"ylab\": \"PC2\"}, \"topic.order\": [3, 2, 4, 1]};\n",
       "\n",
       "function LDAvis_load_lib(url, callback){\n",
       "  var s = document.createElement('script');\n",
       "  s.src = url;\n",
       "  s.async = true;\n",
       "  s.onreadystatechange = s.onload = callback;\n",
       "  s.onerror = function(){console.warn(\"failed to load library \" + url);};\n",
       "  document.getElementsByTagName(\"head\")[0].appendChild(s);\n",
       "}\n",
       "\n",
       "if(typeof(LDAvis) !== \"undefined\"){\n",
       "   // already loaded: just create the visualization\n",
       "   !function(LDAvis){\n",
       "       new LDAvis(\"#\" + \"ldavis_el234950516393763457582645\", ldavis_el234950516393763457582645_data);\n",
       "   }(LDAvis);\n",
       "}else if(typeof define === \"function\" && define.amd){\n",
       "   // require.js is available: use it to load d3/LDAvis\n",
       "   require.config({paths: {d3: \"https://cdnjs.cloudflare.com/ajax/libs/d3/3.5.5/d3.min\"}});\n",
       "   require([\"d3\"], function(d3){\n",
       "      window.d3 = d3;\n",
       "      LDAvis_load_lib(\"https://cdn.rawgit.com/bmabey/pyLDAvis/files/ldavis.v1.0.0.js\", function(){\n",
       "        new LDAvis(\"#\" + \"ldavis_el234950516393763457582645\", ldavis_el234950516393763457582645_data);\n",
       "      });\n",
       "    });\n",
       "}else{\n",
       "    // require.js not available: dynamically load d3 & LDAvis\n",
       "    LDAvis_load_lib(\"https://cdnjs.cloudflare.com/ajax/libs/d3/3.5.5/d3.min.js\", function(){\n",
       "         LDAvis_load_lib(\"https://cdn.rawgit.com/bmabey/pyLDAvis/files/ldavis.v1.0.0.js\", function(){\n",
       "                 new LDAvis(\"#\" + \"ldavis_el234950516393763457582645\", ldavis_el234950516393763457582645_data);\n",
       "            })\n",
       "         });\n",
       "}\n",
       "</script>"
      ],
      "text/plain": [
       "<IPython.core.display.HTML object>"
      ]
     },
     "execution_count": 52,
     "metadata": {},
     "output_type": "execute_result"
    }
   ],
   "source": [
    "from pyLDAvis import gensim as ldavis_gensim\n",
    "from pyLDAvis import sklearn as sklearn_lda\n",
    "import pickle \n",
    "import pyLDAvis\n",
    "import os \n",
    "\n",
    "LDAvis_prepared = sklearn_lda.prepare(model, tf, vectorizer)\n",
    "\n",
    "pyLDAvis.display(LDAvis_prepared)"
   ]
  },
  {
   "cell_type": "markdown",
   "metadata": {},
   "source": [
    "We can save the model so not to have to generate it again"
   ]
  },
  {
   "cell_type": "code",
   "execution_count": 53,
   "metadata": {},
   "outputs": [],
   "source": [
    "pyLDAvis.save_html(LDAvis_prepared, './michaelKors'+ str(number_of_topics) +'.html')"
   ]
  },
  {
   "cell_type": "markdown",
   "metadata": {},
   "source": [
    "We look at the probabilities to belong to each topic for each document and add them to the dataframe."
   ]
  },
  {
   "cell_type": "code",
   "execution_count": 14,
   "metadata": {},
   "outputs": [],
   "source": [
    "df = pd.DataFrame(columns=['topic','word'])"
   ]
  },
  {
   "cell_type": "code",
   "execution_count": 15,
   "metadata": {},
   "outputs": [],
   "source": [
    "for i in range(len(array)):\n",
    "    for j in range(len(array[i])):\n",
    "        df = df.append({'topic' : i+1, 'word' : array[i][j]}, ignore_index=True)"
   ]
  },
  {
   "cell_type": "code",
   "execution_count": 16,
   "metadata": {},
   "outputs": [],
   "source": [
    "df.to_csv('topic_word_michael_kors.csv')"
   ]
  },
  {
   "cell_type": "code",
   "execution_count": null,
   "metadata": {},
   "outputs": [],
   "source": []
  }
 ],
 "metadata": {
  "kernelspec": {
   "display_name": "Python 3",
   "language": "python",
   "name": "python3"
  },
  "language_info": {
   "codemirror_mode": {
    "name": "ipython",
    "version": 3
   },
   "file_extension": ".py",
   "mimetype": "text/x-python",
   "name": "python",
   "nbconvert_exporter": "python",
   "pygments_lexer": "ipython3",
   "version": "3.7.4"
  }
 },
 "nbformat": 4,
 "nbformat_minor": 4
}
