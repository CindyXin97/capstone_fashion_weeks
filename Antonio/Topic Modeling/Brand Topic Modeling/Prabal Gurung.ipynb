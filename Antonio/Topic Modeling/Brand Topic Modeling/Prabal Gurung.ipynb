{
 "cells": [
  {
   "cell_type": "code",
   "execution_count": 1,
   "metadata": {},
   "outputs": [],
   "source": [
    "# packages to store and manipulate data\n",
    "import pandas as pd\n",
    "import numpy as np\n",
    "\n",
    "# plotting packages\n",
    "import matplotlib.pyplot as plt\n",
    "%matplotlib inline\n",
    "\n",
    "import seaborn as sns\n",
    "sns.set(style='white', color_codes=True)\n",
    "sns.set_context(rc={\"font.family\":\"sans\",\"font.size\":24,\"axes.titlesize\":24,\"axes.labelsize\":24})\n",
    "\n",
    "# model building package\n",
    "import sklearn\n",
    "\n",
    "import warnings\n",
    "warnings.filterwarnings(\"ignore\")\n"
   ]
  },
  {
   "cell_type": "code",
   "execution_count": 2,
   "metadata": {
    "scrolled": true
   },
   "outputs": [],
   "source": [
    "df = pd.read_csv('lemmatized_wHM_full.csv')"
   ]
  },
  {
   "cell_type": "code",
   "execution_count": 3,
   "metadata": {},
   "outputs": [],
   "source": [
    "df = df[df['lemmatized'].notna()]"
   ]
  },
  {
   "cell_type": "code",
   "execution_count": 4,
   "metadata": {},
   "outputs": [],
   "source": [
    "df['lemmatized'] = df['lemmatized'].str.lower()"
   ]
  },
  {
   "cell_type": "code",
   "execution_count": 5,
   "metadata": {},
   "outputs": [
    {
     "data": {
      "text/html": [
       "<div>\n",
       "<style scoped>\n",
       "    .dataframe tbody tr th:only-of-type {\n",
       "        vertical-align: middle;\n",
       "    }\n",
       "\n",
       "    .dataframe tbody tr th {\n",
       "        vertical-align: top;\n",
       "    }\n",
       "\n",
       "    .dataframe thead th {\n",
       "        text-align: right;\n",
       "    }\n",
       "</style>\n",
       "<table border=\"1\" class=\"dataframe\">\n",
       "  <thead>\n",
       "    <tr style=\"text-align: right;\">\n",
       "      <th></th>\n",
       "      <th>Unnamed: 0</th>\n",
       "      <th>id</th>\n",
       "      <th>time</th>\n",
       "      <th>created_at</th>\n",
       "      <th>from_user_name</th>\n",
       "      <th>text</th>\n",
       "      <th>filter_level</th>\n",
       "      <th>possibly_sensitive</th>\n",
       "      <th>withheld_copyright</th>\n",
       "      <th>withheld_scope</th>\n",
       "      <th>...</th>\n",
       "      <th>from_user_friendcount</th>\n",
       "      <th>from_user_favourites_count</th>\n",
       "      <th>from_user_listed</th>\n",
       "      <th>from_user_withheld_scope</th>\n",
       "      <th>from_user_created_at</th>\n",
       "      <th>mentions</th>\n",
       "      <th>hashtags</th>\n",
       "      <th>is_retweet</th>\n",
       "      <th>clean_text</th>\n",
       "      <th>lemmatized</th>\n",
       "    </tr>\n",
       "  </thead>\n",
       "  <tbody>\n",
       "    <tr>\n",
       "      <th>3989</th>\n",
       "      <td>3989</td>\n",
       "      <td>1225437812318752768</td>\n",
       "      <td>1581002116</td>\n",
       "      <td>2020-02-06 15:15:16</td>\n",
       "      <td>anapaulalima</td>\n",
       "      <td>#tbt com o estilista @prabalgurung porque hoje...</td>\n",
       "      <td>none</td>\n",
       "      <td>0.0</td>\n",
       "      <td>NaN</td>\n",
       "      <td>NaN</td>\n",
       "      <td>...</td>\n",
       "      <td>458</td>\n",
       "      <td>135</td>\n",
       "      <td>117</td>\n",
       "      <td>NaN</td>\n",
       "      <td>2009-04-30 03:05:03</td>\n",
       "      <td>prabalgurung</td>\n",
       "      <td>tbt; nyfw; fashionweek; desfile; anapaulalimas...</td>\n",
       "      <td>False</td>\n",
       "      <td>tbt com o estilista prabalgurung porque hoje i...</td>\n",
       "      <td>tbt estilista  hoje iniciar mais semana moda n...</td>\n",
       "    </tr>\n",
       "    <tr>\n",
       "      <th>13509</th>\n",
       "      <td>13509</td>\n",
       "      <td>1225601197823975426</td>\n",
       "      <td>1581041070</td>\n",
       "      <td>2020-02-07 02:04:30</td>\n",
       "      <td>CheriStories</td>\n",
       "      <td>#AjaNaomiKing in #PrabalGurung Pre-Fall 2020 a...</td>\n",
       "      <td>none</td>\n",
       "      <td>0.0</td>\n",
       "      <td>NaN</td>\n",
       "      <td>NaN</td>\n",
       "      <td>...</td>\n",
       "      <td>1123</td>\n",
       "      <td>1417</td>\n",
       "      <td>85</td>\n",
       "      <td>NaN</td>\n",
       "      <td>2011-01-14 01:27:02</td>\n",
       "      <td>NaN</td>\n",
       "      <td>AjaNaomiKing; PrabalGurung; Essence; BlackWome...</td>\n",
       "      <td>False</td>\n",
       "      <td>AjaNaomiKing in PrabalGurung Pre-Fall 2020 at ...</td>\n",
       "      <td>ajanaomike  pre- fall essence blackwomeninholl...</td>\n",
       "    </tr>\n",
       "    <tr>\n",
       "      <th>25287</th>\n",
       "      <td>25287</td>\n",
       "      <td>1225796939096166401</td>\n",
       "      <td>1581087739</td>\n",
       "      <td>2020-02-07 15:02:19</td>\n",
       "      <td>CheriStories</td>\n",
       "      <td>#NaomiScott in #PrabalGurung Fall 2019 &amp; #Bulg...</td>\n",
       "      <td>none</td>\n",
       "      <td>0.0</td>\n",
       "      <td>NaN</td>\n",
       "      <td>NaN</td>\n",
       "      <td>...</td>\n",
       "      <td>1123</td>\n",
       "      <td>1417</td>\n",
       "      <td>85</td>\n",
       "      <td>NaN</td>\n",
       "      <td>2011-01-14 01:27:02</td>\n",
       "      <td>NaN</td>\n",
       "      <td>NaomiScott; PrabalGurung; Bulgari; blog; tapfo...</td>\n",
       "      <td>False</td>\n",
       "      <td>NaomiScott in PrabalGurung Fall 2019 &amp; Bulgari...</td>\n",
       "      <td>naomiscott  fall bulgari jewelry bulgari b.zer...</td>\n",
       "    </tr>\n",
       "    <tr>\n",
       "      <th>30274</th>\n",
       "      <td>30274</td>\n",
       "      <td>1225875636218191872</td>\n",
       "      <td>1581106501</td>\n",
       "      <td>2020-02-07 20:15:01</td>\n",
       "      <td>EmmaJBridgeman</td>\n",
       "      <td>When your design for @prabalgurung pops up on ...</td>\n",
       "      <td>none</td>\n",
       "      <td>0.0</td>\n",
       "      <td>NaN</td>\n",
       "      <td>NaN</td>\n",
       "      <td>...</td>\n",
       "      <td>45</td>\n",
       "      <td>2</td>\n",
       "      <td>0</td>\n",
       "      <td>NaN</td>\n",
       "      <td>2019-09-16 09:46:16</td>\n",
       "      <td>prabalgurung; netflix; Next; priyankachopra</td>\n",
       "      <td>printdesign; netflix; nextinfashion; textilede...</td>\n",
       "      <td>False</td>\n",
       "      <td>When your design for prabalgurung pops up on n...</td>\n",
       "      <td>when design  pop netflix next fashion printdes...</td>\n",
       "    </tr>\n",
       "    <tr>\n",
       "      <th>42203</th>\n",
       "      <td>42203</td>\n",
       "      <td>1226128618952286208</td>\n",
       "      <td>1581166817</td>\n",
       "      <td>2020-02-08 13:00:17</td>\n",
       "      <td>ZoyaNailPolish</td>\n",
       "      <td>We are very excited to share with you that we ...</td>\n",
       "      <td>none</td>\n",
       "      <td>NaN</td>\n",
       "      <td>NaN</td>\n",
       "      <td>NaN</td>\n",
       "      <td>...</td>\n",
       "      <td>5502</td>\n",
       "      <td>5954</td>\n",
       "      <td>1462</td>\n",
       "      <td>NaN</td>\n",
       "      <td>2009-01-23 21:23:37</td>\n",
       "      <td>prabalgurung; nyfw</td>\n",
       "      <td>zoyanyfw; prabalgurung; nyfw; nyfwfw20</td>\n",
       "      <td>False</td>\n",
       "      <td>We are very excited to share with you that we ...</td>\n",
       "      <td>very excited share official nail sponsor seaso...</td>\n",
       "    </tr>\n",
       "  </tbody>\n",
       "</table>\n",
       "<p>5 rows × 42 columns</p>\n",
       "</div>"
      ],
      "text/plain": [
       "       Unnamed: 0                   id        time           created_at  \\\n",
       "3989         3989  1225437812318752768  1581002116  2020-02-06 15:15:16   \n",
       "13509       13509  1225601197823975426  1581041070  2020-02-07 02:04:30   \n",
       "25287       25287  1225796939096166401  1581087739  2020-02-07 15:02:19   \n",
       "30274       30274  1225875636218191872  1581106501  2020-02-07 20:15:01   \n",
       "42203       42203  1226128618952286208  1581166817  2020-02-08 13:00:17   \n",
       "\n",
       "       from_user_name                                               text  \\\n",
       "3989     anapaulalima  #tbt com o estilista @prabalgurung porque hoje...   \n",
       "13509    CheriStories  #AjaNaomiKing in #PrabalGurung Pre-Fall 2020 a...   \n",
       "25287    CheriStories  #NaomiScott in #PrabalGurung Fall 2019 & #Bulg...   \n",
       "30274  EmmaJBridgeman  When your design for @prabalgurung pops up on ...   \n",
       "42203  ZoyaNailPolish  We are very excited to share with you that we ...   \n",
       "\n",
       "      filter_level  possibly_sensitive  withheld_copyright withheld_scope  \\\n",
       "3989          none                 0.0                 NaN            NaN   \n",
       "13509         none                 0.0                 NaN            NaN   \n",
       "25287         none                 0.0                 NaN            NaN   \n",
       "30274         none                 0.0                 NaN            NaN   \n",
       "42203         none                 NaN                 NaN            NaN   \n",
       "\n",
       "       ...  from_user_friendcount  from_user_favourites_count  \\\n",
       "3989   ...                    458                         135   \n",
       "13509  ...                   1123                        1417   \n",
       "25287  ...                   1123                        1417   \n",
       "30274  ...                     45                           2   \n",
       "42203  ...                   5502                        5954   \n",
       "\n",
       "       from_user_listed from_user_withheld_scope from_user_created_at  \\\n",
       "3989                117                      NaN  2009-04-30 03:05:03   \n",
       "13509                85                      NaN  2011-01-14 01:27:02   \n",
       "25287                85                      NaN  2011-01-14 01:27:02   \n",
       "30274                 0                      NaN  2019-09-16 09:46:16   \n",
       "42203              1462                      NaN  2009-01-23 21:23:37   \n",
       "\n",
       "                                          mentions  \\\n",
       "3989                                  prabalgurung   \n",
       "13509                                          NaN   \n",
       "25287                                          NaN   \n",
       "30274  prabalgurung; netflix; Next; priyankachopra   \n",
       "42203                           prabalgurung; nyfw   \n",
       "\n",
       "                                                hashtags is_retweet  \\\n",
       "3989   tbt; nyfw; fashionweek; desfile; anapaulalimas...      False   \n",
       "13509  AjaNaomiKing; PrabalGurung; Essence; BlackWome...      False   \n",
       "25287  NaomiScott; PrabalGurung; Bulgari; blog; tapfo...      False   \n",
       "30274  printdesign; netflix; nextinfashion; textilede...      False   \n",
       "42203             zoyanyfw; prabalgurung; nyfw; nyfwfw20      False   \n",
       "\n",
       "                                              clean_text  \\\n",
       "3989   tbt com o estilista prabalgurung porque hoje i...   \n",
       "13509  AjaNaomiKing in PrabalGurung Pre-Fall 2020 at ...   \n",
       "25287  NaomiScott in PrabalGurung Fall 2019 & Bulgari...   \n",
       "30274  When your design for prabalgurung pops up on n...   \n",
       "42203  We are very excited to share with you that we ...   \n",
       "\n",
       "                                              lemmatized  \n",
       "3989   tbt estilista  hoje iniciar mais semana moda n...  \n",
       "13509  ajanaomike  pre- fall essence blackwomeninholl...  \n",
       "25287  naomiscott  fall bulgari jewelry bulgari b.zer...  \n",
       "30274  when design  pop netflix next fashion printdes...  \n",
       "42203  very excited share official nail sponsor seaso...  \n",
       "\n",
       "[5 rows x 42 columns]"
      ]
     },
     "execution_count": 5,
     "metadata": {},
     "output_type": "execute_result"
    }
   ],
   "source": [
    "tweets = df[df['lemmatized'].str.contains('prabalgurung')]\n",
    "tweets['lemmatized'] = tweets['lemmatized'].apply(lambda x : x.replace('prabalgurung', ''))\n",
    "tweets.head()"
   ]
  },
  {
   "cell_type": "markdown",
   "metadata": {},
   "source": [
    "# We can now proceed with the proper LDA "
   ]
  },
  {
   "cell_type": "code",
   "execution_count": 6,
   "metadata": {},
   "outputs": [
    {
     "data": {
      "text/plain": [
       "['accomplish',\n",
       " 'adventure',\n",
       " 'astrid',\n",
       " 'beatriz',\n",
       " 'beautiful',\n",
       " 'bottle',\n",
       " 'browning',\n",
       " 'celebrate',\n",
       " 'chen',\n",
       " 'collection',\n",
       " 'designer',\n",
       " 'diversity',\n",
       " 'energy',\n",
       " 'eva',\n",
       " 'fall',\n",
       " 'fall20',\n",
       " 'fancam',\n",
       " 'fashion',\n",
       " 'full',\n",
       " 'gift',\n",
       " 'goal',\n",
       " 'gown',\n",
       " 'gurung',\n",
       " 'logan',\n",
       " 'look',\n",
       " 'make',\n",
       " 'more',\n",
       " 'new',\n",
       " 'nyfw20',\n",
       " 'nyfw2020',\n",
       " 'post',\n",
       " 'prabal',\n",
       " 'recycle',\n",
       " 'runway',\n",
       " 'sho',\n",
       " 'show',\n",
       " 'so',\n",
       " 'stephanie',\n",
       " 'taffeta',\n",
       " 'take',\n",
       " 'thank',\n",
       " 'theo',\n",
       " 'there',\n",
       " 'tiffany',\n",
       " 'tiffanyyoung',\n",
       " 'tiffanyyy',\n",
       " 'video',\n",
       " 'wargo',\n",
       " 'wear',\n",
       " 'week',\n",
       " 'york',\n",
       " 'young',\n",
       " '소녀시대',\n",
       " '티파니']"
      ]
     },
     "execution_count": 6,
     "metadata": {},
     "output_type": "execute_result"
    }
   ],
   "source": [
    "from sklearn.feature_extraction.text import CountVectorizer\n",
    "\n",
    "# the vectorizer object will be used to transform text to vector form\n",
    "vectorizer = CountVectorizer(max_df=0.9, min_df=10, lowercase=True)\n",
    "\n",
    "# apply transformation\n",
    "tf = vectorizer.fit_transform(tweets['lemmatized']) #.toarray()\n",
    "\n",
    "# tf_feature_names tells us what word each column in the matric represents\n",
    "tf_feature_names = vectorizer.get_feature_names()\n",
    "\n",
    "tf_feature_names[:-1]"
   ]
  },
  {
   "cell_type": "code",
   "execution_count": 7,
   "metadata": {},
   "outputs": [],
   "source": [
    "# Helper function to plot the most common words \n",
    "def plot_10_most_common_words(count_data, count_vectorizer):\n",
    "    import matplotlib.pyplot as plt\n",
    "    words = count_vectorizer.get_feature_names()\n",
    "    total_counts = np.zeros(len(words))\n",
    "    for t in count_data:\n",
    "        total_counts+=t.toarray()[0]\n",
    "    \n",
    "    count_dict = (zip(words, total_counts))\n",
    "    count_dict = sorted(count_dict, key=lambda x:x[1], reverse=True)[0:10]\n",
    "    words = [w[0] for w in count_dict]\n",
    "    counts = [w[1] for w in count_dict]\n",
    "    x_pos = np.arange(len(words)) \n",
    "    \n",
    "    plt.figure(2, figsize=(15, 15/1.6180))\n",
    "    plt.subplot(title='10 most common words')\n",
    "    sns.set_context(\"notebook\", font_scale=1.25, rc={\"lines.linewidth\": 2.5})\n",
    "    sns.barplot(x_pos, counts, palette='husl')\n",
    "    plt.xticks(x_pos, words, rotation=90) \n",
    "    plt.xlabel('words')\n",
    "    plt.ylabel('counts')\n",
    "    plt.show()"
   ]
  },
  {
   "cell_type": "code",
   "execution_count": 8,
   "metadata": {
    "scrolled": false
   },
   "outputs": [
    {
     "data": {
      "image/png": "[encoded data removed]",
      "text/plain": [
       "<Figure size 1080x667.491 with 1 Axes>"
      ]
     },
     "metadata": {},
     "output_type": "display_data"
    }
   ],
   "source": [
    "plot_10_most_common_words(tf,vectorizer)"
   ]
  },
  {
   "cell_type": "markdown",
   "metadata": {},
   "source": [
    "## Fit LDA model\n",
    "We start by trying with a model with 5 topics.\n",
    "- `n_components`: number of topics = 3\n",
    "- `learning_decay`: which controls the learning rate = 0.9."
   ]
  },
  {
   "cell_type": "code",
   "execution_count": 9,
   "metadata": {},
   "outputs": [],
   "source": [
    "from sklearn.decomposition import LatentDirichletAllocation\n",
    "\n",
    "number_of_topics = 4\n",
    "learning_decay = 0.9\n",
    "random_state = 1234\n",
    "\n",
    "model = LatentDirichletAllocation(n_components=number_of_topics,n_jobs = -1, evaluate_every = -1, \n",
    "                                  random_state=random_state, learning_decay=learning_decay) # random state for reproducibility"
   ]
  },
  {
   "cell_type": "code",
   "execution_count": 10,
   "metadata": {},
   "outputs": [],
   "source": [
    "lda_output = model.fit_transform(tf)"
   ]
  },
  {
   "cell_type": "markdown",
   "metadata": {},
   "source": [
    "### Diagnose model performance with perplexity and log-likelihood\n",
    "\n",
    "A model with higher log-likelihood and lower perplexity (exp(-1. * log-likelihood per word)) is considered to be good."
   ]
  },
  {
   "cell_type": "code",
   "execution_count": 11,
   "metadata": {},
   "outputs": [
    {
     "name": "stdout",
     "output_type": "stream",
     "text": [
      "Log Likelihood:  -46060.334046181626\n",
      "Perplexity:  16.155510400828057\n",
      "{'batch_size': 128, 'doc_topic_prior': None, 'evaluate_every': -1, 'learning_decay': 0.9, 'learning_method': 'batch', 'learning_offset': 10.0, 'max_doc_update_iter': 100, 'max_iter': 10, 'mean_change_tol': 0.001, 'n_components': 4, 'n_jobs': -1, 'perp_tol': 0.1, 'random_state': 1234, 'topic_word_prior': None, 'total_samples': 1000000.0, 'verbose': 0}\n"
     ]
    }
   ],
   "source": [
    "# Log Likelyhood: Higher the better\n",
    "print(\"Log Likelihood: \", model.score(tf))\n",
    "\n",
    "# Perplexity: Lower the better. Perplexity = exp(-1. * log-likelihood per word)\n",
    "print(\"Perplexity: \", model.perplexity(tf))\n",
    "\n",
    "# See model parameters\n",
    "print(model.get_params())"
   ]
  },
  {
   "cell_type": "code",
   "execution_count": 12,
   "metadata": {},
   "outputs": [],
   "source": [
    "# Helper function\n",
    "def print_topics(model, count_vectorizer, n_top_words, array):\n",
    "    words = count_vectorizer.get_feature_names()\n",
    "    for topic_idx, topic in enumerate(model.components_):\n",
    "        print(\"\\nTopic #%d:\" % topic_idx)\n",
    "        print(\" \".join([words[i]\n",
    "                        for i in topic.argsort()[:-n_top_words - 1:-1]]))\n",
    "        array.append([words[i]\n",
    "                        for i in topic.argsort()[:-n_top_words - 1:-1]])"
   ]
  },
  {
   "cell_type": "code",
   "execution_count": 13,
   "metadata": {},
   "outputs": [
    {
     "name": "stdout",
     "output_type": "stream",
     "text": [
      "Topics found via LDA:\n",
      "\n",
      "Topic #0:\n",
      "tiffany tiffanyyoung nyfw20 fancam young 티파니 take gift show wargo theo fashion nyfw2020 week york new designer logan prabal gurung\n",
      "\n",
      "Topic #1:\n",
      "tiffanyyoung show energy designer new york nyfw2020 collection look make more celebrate diversity taffeta recycle bottle gown fall20 runway fall\n",
      "\n",
      "Topic #2:\n",
      "young tiffany 티파니영 소녀시대 gurung prabal fashion york new week designer logan eva beatriz browning chen stephanie fall wear runway\n",
      "\n",
      "Topic #3:\n",
      "post accomplish video goal full thank there tiffanyyy sho astrid adventure young tiffany fashion tiffanyyoung designer nyfw20 fancam show logan\n"
     ]
    }
   ],
   "source": [
    "print(\"Topics found via LDA:\")\n",
    "number_of_words = 20\n",
    "array = []\n",
    "print_topics(model, vectorizer, number_of_words, array)"
   ]
  },
  {
   "cell_type": "code",
   "execution_count": 15,
   "metadata": {
    "scrolled": false
   },
   "outputs": [
    {
     "data": {
      "text/html": [
       "\n",
       "<link rel=\"stylesheet\" type=\"text/css\" href=\"https://cdn.rawgit.com/bmabey/pyLDAvis/files/ldavis.v1.0.0.css\">\n",
       "\n",
       "\n",
       "<div id=\"ldavis_el4689446316040070150198\"></div>\n",
       "<script type=\"text/javascript\">\n",
       "\n",
       "var ldavis_el4689446316040070150198_data = {\"mdsDat\": {\"x\": [0.33553284255180665, 0.07825400473070417, -0.08428108988439541, -0.32950575739811544], \"y\": [0.18870144490803784, -0.2565948779161079, -0.08508392960286437, 0.15297736261093448], \"topics\": [1, 2, 3, 4], \"cluster\": [1, 1, 1, 1], \"Freq\": [44.00546670776487, 36.391191265327606, 14.643264242170604, 4.960077784736915]}, \"tinfo\": {\"Term\": [\"tiffanyyoung\", \"post\", \"tiffany\", \"\\ud2f0\\ud30c\\ub2c8\\uc601\", \"\\uc18c\\ub140\\uc2dc\\ub300\", \"nyfw20\", \"fancam\", \"\\ud2f0\\ud30c\\ub2c8\", \"video\", \"tiffanyyy\", \"there\", \"thank\", \"sho\", \"adventure\", \"goal\", \"full\", \"accomplish\", \"astrid\", \"young\", \"take\", \"gift\", \"gurung\", \"prabal\", \"new\", \"york\", \"week\", \"fashion\", \"designer\", \"show\", \"energy\", \"post\", \"tiffanyyy\", \"full\", \"goal\", \"sho\", \"thank\", \"there\", \"astrid\", \"accomplish\", \"video\", \"adventure\", \"young\", \"tiffany\", \"wear\", \"so\", \"beautiful\", \"fall\", \"runway\", \"diversity\", \"fall20\", \"bottle\", \"gown\", \"celebrate\", \"recycle\", \"taffeta\", \"more\", \"make\", \"look\", \"collection\", \"nyfw2020\", \"fashion\", \"tiffanyyoung\", \"designer\", \"nyfw20\", \"fancam\", \"show\", \"logan\", \"york\", \"new\", \"week\", \"prabal\", \"gurung\", \"beatriz\", \"browning\", \"chen\", \"eva\", \"stephanie\", \"\\ud2f0\\ud30c\\ub2c8\\uc601\", \"\\uc18c\\ub140\\uc2dc\\ub300\", \"gurung\", \"prabal\", \"week\", \"logan\", \"stephanie\", \"beatriz\", \"browning\", \"chen\", \"eva\", \"york\", \"new\", \"fashion\", \"designer\", \"young\", \"tiffany\", \"wear\", \"so\", \"beautiful\", \"fall\", \"runway\", \"recycle\", \"fall20\", \"taffeta\", \"celebrate\", \"diversity\", \"gown\", \"bottle\", \"more\", \"look\", \"show\", \"nyfw20\", \"tiffanyyoung\", \"nyfw2020\", \"fancam\", \"astrid\", \"adventure\", \"full\", \"nyfw20\", \"fancam\", \"\\ud2f0\\ud30c\\ub2c8\", \"take\", \"gift\", \"wargo\", \"theo\", \"tiffanyyoung\", \"show\", \"tiffany\", \"fashion\", \"young\", \"wear\", \"so\", \"beautiful\", \"fall\", \"runway\", \"diversity\", \"taffeta\", \"celebrate\", \"recycle\", \"gown\", \"bottle\", \"fall20\", \"more\", \"make\", \"look\", \"collection\", \"nyfw2020\", \"energy\", \"week\", \"york\", \"new\", \"designer\", \"logan\", \"prabal\", \"gurung\", \"full\", \"goal\", \"astrid\", \"adventure\", \"accomplish\", \"there\", \"sho\", \"video\", \"tiffanyyy\", \"thank\", \"energy\", \"nyfw2020\", \"collection\", \"look\", \"make\", \"more\", \"celebrate\", \"taffeta\", \"recycle\", \"diversity\", \"fall20\", \"bottle\", \"gown\", \"runway\", \"fall\", \"beautiful\", \"so\", \"wear\", \"show\", \"tiffanyyoung\", \"designer\", \"new\", \"york\", \"fashion\", \"wargo\", \"theo\", \"eva\", \"beatriz\", \"stephanie\", \"browning\", \"chen\", \"prabal\", \"gurung\", \"week\", \"logan\", \"young\", \"tiffany\", \"take\"], \"Freq\": [723.0, 1040.0, 2238.0, 470.0, 470.0, 223.0, 222.0, 219.0, 520.0, 520.0, 520.0, 520.0, 520.0, 520.0, 520.0, 520.0, 520.0, 520.0, 1978.0, 213.0, 209.0, 405.0, 405.0, 338.0, 338.0, 307.0, 369.0, 128.0, 83.0, 31.0, 1039.5622637028403, 519.903795425895, 519.903795425895, 519.903795425895, 519.903795425895, 519.903795425895, 519.903795425895, 519.903795425895, 519.903795425895, 519.903795425895, 519.903795425895, 518.6124987384574, 517.5772186730352, 0.24559124647479916, 0.2455903240417795, 0.24559048631621047, 0.24559416852716537, 0.24559260554097534, 0.24558653829713567, 0.24558653829713567, 0.24558653829713567, 0.24558653829713567, 0.24558653829713567, 0.24558653829713567, 0.24558653829713567, 0.24559333131550987, 0.24558703627197132, 0.24559770153151037, 0.24558715466642536, 0.24559322784124588, 0.2456201512916867, 0.24561655745572153, 0.24560905216370577, 0.24560576492147587, 0.24560549856681824, 0.24560381095943437, 0.2456031076760397, 0.24560238828157466, 0.2456023882814462, 0.24560232805283475, 0.24560134893731866, 0.24560134893730504, 0.24560048119782993, 0.24560048119782993, 0.24560048119782993, 0.24560048119782993, 0.24560048119782993, 469.7553517413863, 469.7553517413863, 404.786530523024, 404.78653047686805, 306.35831989477913, 76.03663192083731, 75.05237840753182, 75.05237840753182, 75.05237840753182, 75.05237840753182, 75.05237840753182, 310.2046954818759, 310.20469497900973, 311.7850817393133, 98.41016266836924, 1239.6379542626198, 1238.224363469248, 0.24662179829005357, 0.2460802891603572, 0.24608048618241024, 0.24694796690690182, 0.24647857362466613, 0.24609235960472822, 0.24609235960472822, 0.24609235960472822, 0.24609235960472822, 0.24609235960472822, 0.24609235960472822, 0.24609235960472822, 0.2461445349372959, 0.24640553739561474, 0.24636307264347268, 0.24621310039167235, 0.24615216700540904, 0.2461404451020849, 0.24610402662841474, 0.24609495782962554, 0.24609495782962554, 0.24609495782962554, 223.06398550384347, 222.08251707381197, 219.13782848494014, 212.26649196752223, 208.3404516821408, 41.47157993683564, 41.47157993683564, 457.53464768379047, 43.98049682642648, 482.829386673517, 41.193557026923386, 220.26611959392613, 0.24541342172475436, 0.2454111775184029, 0.2454115623553158, 0.24542259952223763, 0.24541767496077538, 0.24539913624678414, 0.24539913624678414, 0.24539913624678414, 0.24539913624678414, 0.24539913624678414, 0.24539913624678414, 0.24539913624678414, 0.24542149279057385, 0.24540062927104359, 0.2454337365591856, 0.24540125415597994, 0.24559424099514687, 0.2454034820476232, 0.24547522402826386, 0.24547480193172005, 0.2454748019317159, 0.24546989612748843, 0.24545040022603543, 0.24544591973338162, 0.24544591973333804, 0.2454448310452575, 0.2454448310452575, 0.2454448310452575, 0.2454448310452575, 0.2454448310452575, 0.2454448310452575, 0.2454448310452575, 0.2454448310452575, 0.2454448310452575, 0.2454448310452575, 30.270050270506616, 27.548801324348652, 24.82823777343479, 24.82774456134069, 23.46778530602332, 23.467675017846602, 22.10733421379806, 22.10733421379806, 22.10733421379806, 22.10733421379806, 22.10733421379806, 22.10733421379806, 22.10733421379806, 22.106766308206176, 20.74565523064788, 19.386421310640547, 16.665515716967654, 16.66476287801138, 39.03675560023161, 265.8053352384411, 29.27657176464504, 27.68012783868855, 27.680127143647766, 16.35835682603982, 0.34039675718830864, 0.34039675718830864, 0.34036516131683464, 0.34036516131683464, 0.34036516131683464, 0.34036516131683464, 0.34036516131683464, 0.34760368250402146, 0.3476036187091475, 0.34554499617804707, 0.3404102999082386, 0.3409423564029169, 0.3409156660687622, 0.3407529113962752], \"Total\": [723.0, 1040.0, 2238.0, 470.0, 470.0, 223.0, 222.0, 219.0, 520.0, 520.0, 520.0, 520.0, 520.0, 520.0, 520.0, 520.0, 520.0, 520.0, 1978.0, 213.0, 209.0, 405.0, 405.0, 338.0, 338.0, 307.0, 369.0, 128.0, 83.0, 31.0, 1040.3941768572042, 520.7357086585208, 520.7357086585208, 520.7357086585208, 520.7357086585208, 520.7357086585208, 520.7357086585208, 520.7357086585208, 520.7357086585208, 520.7357086585208, 520.7357086585208, 1978.857514951406, 2238.971884481869, 17.40238934450099, 17.402597507688192, 20.123503845494483, 21.483619965604184, 22.844255162332594, 22.84441224794671, 22.84441224794671, 22.84441224794671, 22.84441224794671, 22.84441224794671, 22.84441224794671, 22.84441224794671, 24.20483437688998, 24.20486494110823, 25.565181536827, 25.56531801765701, 28.28612923828713, 369.58261574356817, 723.8317516466927, 128.17781338130547, 223.8962419035114, 222.91465865296206, 83.50921931026099, 76.86809572864763, 338.37589981573694, 338.37590000791147, 307.19494244303826, 405.62518142804277, 405.62518141040385, 75.8837865782367, 75.8837865782367, 75.8837865782367, 75.8837865782367, 75.8837865782367, 470.5867629450952, 470.5867629450952, 405.62518141040385, 405.62518142804277, 307.19494244303826, 76.86809572864763, 75.8837865782367, 75.8837865782367, 75.8837865782367, 75.8837865782367, 75.8837865782367, 338.37589981573694, 338.37590000791147, 369.58261574356817, 128.17781338130547, 1978.857514951406, 2238.971884481869, 17.40238934450099, 17.402597507688192, 20.123503845494483, 21.483619965604184, 22.844255162332594, 22.84441224794671, 22.84441224794671, 22.84441224794671, 22.84441224794671, 22.84441224794671, 22.84441224794671, 22.84441224794671, 24.20483437688998, 25.565181536827, 83.50921931026099, 223.8962419035114, 723.8317516466927, 28.28612923828713, 222.91465865296206, 520.7357086585208, 520.7357086585208, 520.7357086585208, 223.8962419035114, 222.91465865296206, 219.96990009009164, 213.0989337333349, 209.17249849899426, 42.303666912910685, 42.303666912910685, 723.8317516466927, 83.50921931026099, 2238.971884481869, 369.58261574356817, 1978.857514951406, 17.40238934450099, 17.402597507688192, 20.123503845494483, 21.483619965604184, 22.844255162332594, 22.84441224794671, 22.84441224794671, 22.84441224794671, 22.84441224794671, 22.84441224794671, 22.84441224794671, 22.84441224794671, 24.20483437688998, 24.20486494110823, 25.565181536827, 25.56531801765701, 28.28612923828713, 31.00713105054509, 307.19494244303826, 338.37589981573694, 338.37590000791147, 128.17781338130547, 76.86809572864763, 405.62518142804277, 405.62518141040385, 520.7357086585208, 520.7357086585208, 520.7357086585208, 520.7357086585208, 520.7357086585208, 520.7357086585208, 520.7357086585208, 520.7357086585208, 520.7357086585208, 520.7357086585208, 31.00713105054509, 28.28612923828713, 25.56531801765701, 25.565181536827, 24.20486494110823, 24.20483437688998, 22.84441224794671, 22.84441224794671, 22.84441224794671, 22.84441224794671, 22.84441224794671, 22.84441224794671, 22.84441224794671, 22.844255162332594, 21.483619965604184, 20.123503845494483, 17.402597507688192, 17.40238934450099, 83.50921931026099, 723.8317516466927, 128.17781338130547, 338.37590000791147, 338.37589981573694, 369.58261574356817, 42.303666912910685, 42.303666912910685, 75.8837865782367, 75.8837865782367, 75.8837865782367, 75.8837865782367, 75.8837865782367, 405.62518142804277, 405.62518141040385, 307.19494244303826, 76.86809572864763, 1978.857514951406, 2238.971884481869, 213.0989337333349], \"Category\": [\"Default\", \"Default\", \"Default\", \"Default\", \"Default\", \"Default\", \"Default\", \"Default\", \"Default\", \"Default\", \"Default\", \"Default\", \"Default\", \"Default\", \"Default\", \"Default\", \"Default\", \"Default\", \"Default\", \"Default\", \"Default\", \"Default\", \"Default\", \"Default\", \"Default\", \"Default\", \"Default\", \"Default\", \"Default\", \"Default\", \"Topic1\", \"Topic1\", \"Topic1\", \"Topic1\", \"Topic1\", \"Topic1\", \"Topic1\", \"Topic1\", \"Topic1\", \"Topic1\", \"Topic1\", \"Topic1\", \"Topic1\", \"Topic1\", \"Topic1\", \"Topic1\", \"Topic1\", \"Topic1\", \"Topic1\", \"Topic1\", \"Topic1\", \"Topic1\", \"Topic1\", \"Topic1\", \"Topic1\", \"Topic1\", \"Topic1\", \"Topic1\", \"Topic1\", \"Topic1\", \"Topic1\", \"Topic1\", \"Topic1\", \"Topic1\", \"Topic1\", \"Topic1\", \"Topic1\", \"Topic1\", \"Topic1\", \"Topic1\", \"Topic1\", \"Topic1\", \"Topic1\", \"Topic1\", \"Topic1\", \"Topic1\", \"Topic1\", \"Topic2\", \"Topic2\", \"Topic2\", \"Topic2\", \"Topic2\", \"Topic2\", \"Topic2\", \"Topic2\", \"Topic2\", \"Topic2\", \"Topic2\", \"Topic2\", \"Topic2\", \"Topic2\", \"Topic2\", \"Topic2\", \"Topic2\", \"Topic2\", \"Topic2\", \"Topic2\", \"Topic2\", \"Topic2\", \"Topic2\", \"Topic2\", \"Topic2\", \"Topic2\", \"Topic2\", \"Topic2\", \"Topic2\", \"Topic2\", \"Topic2\", \"Topic2\", \"Topic2\", \"Topic2\", \"Topic2\", \"Topic2\", \"Topic2\", \"Topic2\", \"Topic2\", \"Topic3\", \"Topic3\", \"Topic3\", \"Topic3\", \"Topic3\", \"Topic3\", \"Topic3\", \"Topic3\", \"Topic3\", \"Topic3\", \"Topic3\", \"Topic3\", \"Topic3\", \"Topic3\", \"Topic3\", \"Topic3\", \"Topic3\", \"Topic3\", \"Topic3\", \"Topic3\", \"Topic3\", \"Topic3\", \"Topic3\", \"Topic3\", \"Topic3\", \"Topic3\", \"Topic3\", \"Topic3\", \"Topic3\", \"Topic3\", \"Topic3\", \"Topic3\", \"Topic3\", \"Topic3\", \"Topic3\", \"Topic3\", \"Topic3\", \"Topic3\", \"Topic3\", \"Topic3\", \"Topic3\", \"Topic3\", \"Topic3\", \"Topic3\", \"Topic3\", \"Topic3\", \"Topic3\", \"Topic4\", \"Topic4\", \"Topic4\", \"Topic4\", \"Topic4\", \"Topic4\", \"Topic4\", \"Topic4\", \"Topic4\", \"Topic4\", \"Topic4\", \"Topic4\", \"Topic4\", \"Topic4\", \"Topic4\", \"Topic4\", \"Topic4\", \"Topic4\", \"Topic4\", \"Topic4\", \"Topic4\", \"Topic4\", \"Topic4\", \"Topic4\", \"Topic4\", \"Topic4\", \"Topic4\", \"Topic4\", \"Topic4\", \"Topic4\", \"Topic4\", \"Topic4\", \"Topic4\", \"Topic4\", \"Topic4\", \"Topic4\", \"Topic4\", \"Topic4\"], \"logprob\": [30.0, 29.0, 28.0, 27.0, 26.0, 25.0, 24.0, 23.0, 22.0, 21.0, 20.0, 19.0, 18.0, 17.0, 16.0, 15.0, 14.0, 13.0, 12.0, 11.0, 10.0, 9.0, 8.0, 7.0, 6.0, 5.0, 4.0, 3.0, 2.0, 1.0, -1.947, -2.6399, -2.6399, -2.6399, -2.6399, -2.6399, -2.6399, -2.6399, -2.6399, -2.6399, -2.6399, -2.6424, -2.6444, -10.2977, -10.2977, -10.2977, -10.2977, -10.2977, -10.2977, -10.2977, -10.2977, -10.2977, -10.2977, -10.2977, -10.2977, -10.2977, -10.2977, -10.2976, -10.2977, -10.2977, -10.2976, -10.2976, -10.2976, -10.2976, -10.2976, -10.2976, -10.2976, -10.2976, -10.2976, -10.2976, -10.2976, -10.2976, -10.2976, -10.2976, -10.2976, -10.2976, -10.2976, -2.5514, -2.5514, -2.7002, -2.7002, -2.9788, -4.3724, -4.3854, -4.3854, -4.3854, -4.3854, -4.3854, -2.9664, -2.9664, -2.9613, -4.1145, -1.581, -1.5822, -10.1035, -10.1057, -10.1057, -10.1022, -10.1041, -10.1056, -10.1056, -10.1056, -10.1056, -10.1056, -10.1056, -10.1056, -10.1054, -10.1044, -10.1045, -10.1052, -10.1054, -10.1055, -10.1056, -10.1056, -10.1056, -10.1056, -2.3858, -2.3902, -2.4036, -2.4354, -2.4541, -4.0682, -4.0682, -1.6674, -4.0095, -1.6136, -4.075, -2.3984, -9.1981, -9.1981, -9.1981, -9.198, -9.198, -9.1981, -9.1981, -9.1981, -9.1981, -9.1981, -9.1981, -9.1981, -9.198, -9.1981, -9.198, -9.1981, -9.1973, -9.1981, -9.1978, -9.1978, -9.1978, -9.1978, -9.1979, -9.1979, -9.1979, -9.1979, -9.1979, -9.1979, -9.1979, -9.1979, -9.1979, -9.1979, -9.1979, -9.1979, -9.1979, -3.3005, -3.3947, -3.4987, -3.4987, -3.5551, -3.5551, -3.6148, -3.6148, -3.6148, -3.6148, -3.6148, -3.6148, -3.6148, -3.6148, -3.6784, -3.7461, -3.8974, -3.8974, -3.0462, -1.1279, -3.3339, -3.39, -3.39, -3.916, -7.7883, -7.7883, -7.7884, -7.7884, -7.7884, -7.7884, -7.7884, -7.7674, -7.7674, -7.7733, -7.7883, -7.7867, -7.7868, -7.7873], \"loglift\": [30.0, 29.0, 28.0, 27.0, 26.0, 25.0, 24.0, 23.0, 22.0, 21.0, 20.0, 19.0, 18.0, 17.0, 16.0, 15.0, 14.0, 13.0, 12.0, 11.0, 10.0, 9.0, 8.0, 7.0, 6.0, 5.0, 4.0, 3.0, 2.0, 1.0, 0.8201, 0.8193, 0.8193, 0.8193, 0.8193, 0.8193, 0.8193, 0.8193, 0.8193, 0.8193, 0.8193, -0.5183, -0.6438, -3.4398, -3.4399, -3.5851, -3.6505, -3.7119, -3.712, -3.712, -3.712, -3.712, -3.712, -3.712, -3.712, -3.7698, -3.7698, -3.8244, -3.8245, -3.9256, -6.4955, -7.1677, -5.4366, -5.9944, -5.99, -5.0081, -4.9253, -6.4073, -6.4073, -6.3107, -6.5886, -6.5886, -4.9124, -4.9124, -4.9124, -4.9124, -4.9124, 1.0091, 1.0091, 1.0088, 1.0088, 1.0081, 1.0, 0.9998, 0.9998, 0.9998, 0.9998, 0.9998, 0.9239, 0.9239, 0.8408, 0.7466, 0.5431, 0.4185, -3.2457, -3.2479, -3.3931, -3.455, -3.5183, -3.5199, -3.5199, -3.5199, -3.5199, -3.5199, -3.5199, -3.5199, -3.5775, -3.6312, -4.8151, -5.8019, -6.9755, -3.7334, -5.7979, -6.6464, -6.6464, -6.6464, 1.9175, 1.9174, 1.9174, 1.9173, 1.9172, 1.9013, 1.9013, 1.4625, 1.28, 0.3871, -0.2729, -0.2742, -2.3402, -2.3402, -2.4855, -2.5509, -2.6123, -2.6124, -2.6124, -2.6124, -2.6124, -2.6124, -2.6124, -2.6124, -2.6701, -2.6702, -2.7248, -2.7249, -2.8253, -2.9179, -5.2109, -5.3075, -5.3075, -4.3368, -3.8256, -5.4889, -5.4889, -5.7387, -5.7387, -5.7387, -5.7387, -5.7387, -5.7387, -5.7387, -5.7387, -5.7387, -5.7387, 2.9797, 2.9773, 2.9745, 2.9745, 2.9728, 2.9728, 2.971, 2.971, 2.971, 2.971, 2.971, 2.971, 2.971, 2.9709, 2.9688, 2.9664, 2.9605, 2.9604, 2.2433, 2.002, 1.5271, 0.5003, 0.5003, -0.1139, -1.8188, -1.8188, -2.4032, -2.4032, -2.4032, -2.4032, -2.4032, -4.0584, -4.0584, -3.7864, -2.4159, -5.6626, -5.7861, -3.4346]}, \"token.table\": {\"Topic\": [1, 1, 1, 2, 4, 4, 2, 4, 2, 4, 2, 4, 4, 4, 2, 4, 4, 3, 2, 3, 4, 1, 3, 1, 4, 2, 2, 4, 4, 4, 2, 4, 3, 4, 1, 2, 4, 4, 1, 3, 4, 4, 2, 4, 3, 1, 3, 1, 1, 2, 3, 3, 4, 1, 1, 3, 4, 2, 2, 4, 1, 2, 3, 2, 3, 2], \"Freq\": [0.998587174556521, 0.998587174556521, 0.998587174556521, 0.9883534201693335, 0.9441695713569271, 0.9630363767392349, 0.9883534201693335, 0.9630363767392349, 0.9883534201693335, 0.9778873074347612, 0.7645628944259486, 0.22624820345257662, 0.9630363767392349, 0.9675193732401958, 0.9883534201693335, 0.9774888977565944, 0.9630363767392349, 0.9958968214181643, 0.8441955511686692, 0.11093595383947255, 0.04329207954711124, 0.998587174556521, 0.994394585772948, 0.998587174556521, 0.9630363767392349, 0.9984587214032669, 0.9887066835672358, 0.9778925279285481, 0.9502221993785244, 0.9502233992544763, 0.9161408953555853, 0.08274820990308512, 0.9959970658913622, 0.9898844682537957, 0.9996211273900101, 0.9984587213598481, 0.9630363767392349, 0.963042998936351, 0.998587174556521, 0.5268879336127815, 0.4670143047931472, 0.9768656657426955, 0.9883534201693335, 0.9630363767392349, 0.9948430819709776, 0.998587174556521, 0.9691831226925433, 0.998587174556521, 0.23135618789597834, 0.5529323564000409, 0.21572401303814198, 0.6327437266437477, 0.3674887146009539, 0.998587174556521, 0.998587174556521, 0.9691831226925433, 0.9768773507743556, 0.9961101493613951, 0.9161408958758911, 0.08274820995008048, 0.26227254669861605, 0.6266241963512215, 0.11117526064295864, 0.9987531248405225, 0.9955907599644569, 0.9987531248405225], \"Term\": [\"accomplish\", \"adventure\", \"astrid\", \"beatriz\", \"beautiful\", \"bottle\", \"browning\", \"celebrate\", \"chen\", \"collection\", \"designer\", \"designer\", \"diversity\", \"energy\", \"eva\", \"fall\", \"fall20\", \"fancam\", \"fashion\", \"fashion\", \"fashion\", \"full\", \"gift\", \"goal\", \"gown\", \"gurung\", \"logan\", \"look\", \"make\", \"more\", \"new\", \"new\", \"nyfw20\", \"nyfw2020\", \"post\", \"prabal\", \"recycle\", \"runway\", \"sho\", \"show\", \"show\", \"so\", \"stephanie\", \"taffeta\", \"take\", \"thank\", \"theo\", \"there\", \"tiffany\", \"tiffany\", \"tiffany\", \"tiffanyyoung\", \"tiffanyyoung\", \"tiffanyyy\", \"video\", \"wargo\", \"wear\", \"week\", \"york\", \"york\", \"young\", \"young\", \"young\", \"\\uc18c\\ub140\\uc2dc\\ub300\", \"\\ud2f0\\ud30c\\ub2c8\", \"\\ud2f0\\ud30c\\ub2c8\\uc601\"]}, \"R\": 30, \"lambda.step\": 0.01, \"plot.opts\": {\"xlab\": \"PC1\", \"ylab\": \"PC2\"}, \"topic.order\": [4, 3, 1, 2]};\n",
       "\n",
       "function LDAvis_load_lib(url, callback){\n",
       "  var s = document.createElement('script');\n",
       "  s.src = url;\n",
       "  s.async = true;\n",
       "  s.onreadystatechange = s.onload = callback;\n",
       "  s.onerror = function(){console.warn(\"failed to load library \" + url);};\n",
       "  document.getElementsByTagName(\"head\")[0].appendChild(s);\n",
       "}\n",
       "\n",
       "if(typeof(LDAvis) !== \"undefined\"){\n",
       "   // already loaded: just create the visualization\n",
       "   !function(LDAvis){\n",
       "       new LDAvis(\"#\" + \"ldavis_el4689446316040070150198\", ldavis_el4689446316040070150198_data);\n",
       "   }(LDAvis);\n",
       "}else if(typeof define === \"function\" && define.amd){\n",
       "   // require.js is available: use it to load d3/LDAvis\n",
       "   require.config({paths: {d3: \"https://cdnjs.cloudflare.com/ajax/libs/d3/3.5.5/d3.min\"}});\n",
       "   require([\"d3\"], function(d3){\n",
       "      window.d3 = d3;\n",
       "      LDAvis_load_lib(\"https://cdn.rawgit.com/bmabey/pyLDAvis/files/ldavis.v1.0.0.js\", function(){\n",
       "        new LDAvis(\"#\" + \"ldavis_el4689446316040070150198\", ldavis_el4689446316040070150198_data);\n",
       "      });\n",
       "    });\n",
       "}else{\n",
       "    // require.js not available: dynamically load d3 & LDAvis\n",
       "    LDAvis_load_lib(\"https://cdnjs.cloudflare.com/ajax/libs/d3/3.5.5/d3.min.js\", function(){\n",
       "         LDAvis_load_lib(\"https://cdn.rawgit.com/bmabey/pyLDAvis/files/ldavis.v1.0.0.js\", function(){\n",
       "                 new LDAvis(\"#\" + \"ldavis_el4689446316040070150198\", ldavis_el4689446316040070150198_data);\n",
       "            })\n",
       "         });\n",
       "}\n",
       "</script>"
      ],
      "text/plain": [
       "<IPython.core.display.HTML object>"
      ]
     },
     "execution_count": 15,
     "metadata": {},
     "output_type": "execute_result"
    }
   ],
   "source": [
    "from pyLDAvis import gensim as ldavis_gensim\n",
    "from pyLDAvis import sklearn as sklearn_lda\n",
    "import pickle \n",
    "import pyLDAvis\n",
    "import os \n",
    "\n",
    "LDAvis_prepared = sklearn_lda.prepare(model, tf, vectorizer)\n",
    "\n",
    "pyLDAvis.display(LDAvis_prepared)"
   ]
  },
  {
   "cell_type": "markdown",
   "metadata": {},
   "source": [
    "We can save the model so not to have to generate it again"
   ]
  },
  {
   "cell_type": "code",
   "execution_count": 43,
   "metadata": {},
   "outputs": [],
   "source": [
    "LDAvis_data_filepath = os.path.join('./ldavis_prepared_'+str(number_of_topics))\n",
    "with open(LDAvis_data_filepath, 'wb') as f:\n",
    "        pickle.dump(LDAvis_prepared, f)"
   ]
  },
  {
   "cell_type": "code",
   "execution_count": 17,
   "metadata": {},
   "outputs": [],
   "source": [
    "pyLDAvis.save_html(LDAvis_prepared, './prabalgurung'+ str(number_of_topics) +'.html')"
   ]
  },
  {
   "cell_type": "code",
   "execution_count": 14,
   "metadata": {},
   "outputs": [],
   "source": [
    "df = pd.DataFrame(columns=['topic','word'])"
   ]
  },
  {
   "cell_type": "code",
   "execution_count": 15,
   "metadata": {},
   "outputs": [],
   "source": [
    "for i in range(len(array)):\n",
    "    for j in range(len(array[i])):\n",
    "        df = df.append({'topic' : i+1, 'word' : array[i][j]}, ignore_index=True)"
   ]
  },
  {
   "cell_type": "code",
   "execution_count": 18,
   "metadata": {},
   "outputs": [],
   "source": [
    "df.to_csv('topic_word_prabal_gurung.csv')"
   ]
  },
  {
   "cell_type": "code",
   "execution_count": null,
   "metadata": {},
   "outputs": [],
   "source": []
  }
 ],
 "metadata": {
  "kernelspec": {
   "display_name": "Python 3",
   "language": "python",
   "name": "python3"
  },
  "language_info": {
   "codemirror_mode": {
    "name": "ipython",
    "version": 3
   },
   "file_extension": ".py",
   "mimetype": "text/x-python",
   "name": "python",
   "nbconvert_exporter": "python",
   "pygments_lexer": "ipython3",
   "version": "3.7.4"
  }
 },
 "nbformat": 4,
 "nbformat_minor": 4
}
